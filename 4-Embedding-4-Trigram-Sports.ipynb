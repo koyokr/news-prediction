{
 "cells": [
  {
   "cell_type": "code",
   "execution_count": 1,
   "metadata": {},
   "outputs": [],
   "source": [
    "from pathlib import Path\n",
    "\n",
    "import numpy as np\n",
    "import pandas as pd\n",
    "\n",
    "import gensim\n",
    "from sklearn.model_selection import train_test_split\n",
    "\n",
    "from tqdm.auto import tqdm\n",
    "tqdm.pandas()\n",
    "\n",
    "from unicode import join_jamos"
   ]
  },
  {
   "cell_type": "code",
   "execution_count": 2,
   "metadata": {},
   "outputs": [],
   "source": [
    "DATA_TYPE = 'full-morphs'\n",
    "DATA_NOSTOPS_TYPE = 'full-nouns'"
   ]
  },
  {
   "cell_type": "code",
   "execution_count": 3,
   "metadata": {},
   "outputs": [],
   "source": [
    "DATA_DIR = 'lol'\n",
    "TOKENIZING_DIR = '3-tokenizing'\n",
    "EMBEDDING_DIR = '4-embedding'\n",
    "\n",
    "tokenizing_dir = Path(TOKENIZING_DIR) / DATA_DIR\n",
    "embedding_dir = Path(EMBEDDING_DIR) / DATA_DIR\n",
    "embedding_dir.mkdir(parents=True, exist_ok=True)"
   ]
  },
  {
   "cell_type": "markdown",
   "metadata": {},
   "source": [
    "### tokenize"
   ]
  },
  {
   "cell_type": "code",
   "execution_count": 4,
   "metadata": {},
   "outputs": [],
   "source": [
    "df = pd.read_csv(tokenizing_dir / 'news-{}.csv'.format(DATA_TYPE)).dropna()\n",
    "\n",
    "train_range = df.date.apply(lambda x: 20150000 < x < 20200000)\n",
    "test_range = df.date.apply(lambda x: 20200000 < x < 20210000)\n",
    "\n",
    "def my_train_test_split(data):\n",
    "    return data[train_range], data[test_range]\n",
    "\n",
    "def my_train_val_test_split(data):\n",
    "    train, test = my_train_test_split(data)\n",
    "    train, val = train_test_split(train, test_size=0.1, random_state=119)\n",
    "    return train, val, test\n",
    "\n",
    "contents = [x.split(' ') for x in my_train_val_test_split(df.contents)[0]]"
   ]
  },
  {
   "cell_type": "markdown",
   "metadata": {},
   "source": [
    "### model"
   ]
  },
  {
   "cell_type": "code",
   "execution_count": 5,
   "metadata": {},
   "outputs": [],
   "source": [
    "bigram = gensim.models.Phrases(contents)\n",
    "bigram_mod = gensim.models.phrases.Phraser(bigram)\n",
    "\n",
    "trigram = gensim.models.Phrases(bigram[contents])\n",
    "trigram_mod = gensim.models.phrases.Phraser(trigram)"
   ]
  },
  {
   "cell_type": "markdown",
   "metadata": {},
   "source": [
    "### save"
   ]
  },
  {
   "cell_type": "code",
   "execution_count": 6,
   "metadata": {},
   "outputs": [],
   "source": [
    "bigram_mod_path = embedding_dir / 'news-{}-bigram.bin'.format(DATA_TYPE)\n",
    "bigram_mod.save(str(bigram_mod_path))\n",
    "\n",
    "trigram_mod_path = embedding_dir / 'news-{}-trigram.bin'.format(DATA_TYPE)\n",
    "trigram_mod.save(str(trigram_mod_path))"
   ]
  },
  {
   "cell_type": "markdown",
   "metadata": {},
   "source": [
    "### load"
   ]
  },
  {
   "cell_type": "code",
   "execution_count": 7,
   "metadata": {},
   "outputs": [],
   "source": [
    "bigram_mod_path = embedding_dir / 'news-{}-bigram.bin'.format(DATA_TYPE)\n",
    "trigram_mod_path = embedding_dir / 'news-{}-trigram.bin'.format(DATA_TYPE)\n",
    "\n",
    "bigram_mod = gensim.models.phrases.Phraser.load(str(bigram_mod_path))\n",
    "trigram_mod = gensim.models.phrases.Phraser.load(str(trigram_mod_path))\n",
    "\n",
    "def make_bigrams(texts):\n",
    "    return [bigram_mod[doc] if doc is not np.nan else doc for doc in tqdm(texts)]\n",
    "\n",
    "def make_trigrams(texts):\n",
    "    return [trigram_mod[bigram_mod[doc]] if doc is not np.nan else doc for doc in tqdm(texts)]"
   ]
  },
  {
   "cell_type": "markdown",
   "metadata": {},
   "source": [
    "### transform"
   ]
  },
  {
   "cell_type": "code",
   "execution_count": 8,
   "metadata": {},
   "outputs": [
    {
     "data": {
      "application/vnd.jupyter.widget-view+json": {
       "model_id": "96e3d80604744dfdb4c7109edb1e5dfd",
       "version_major": 2,
       "version_minor": 0
      },
      "text/plain": [
       "HBox(children=(FloatProgress(value=0.0, max=51816.0), HTML(value='')))"
      ]
     },
     "metadata": {},
     "output_type": "display_data"
    },
    {
     "name": "stdout",
     "output_type": "stream",
     "text": [
      "\n"
     ]
    },
    {
     "data": {
      "application/vnd.jupyter.widget-view+json": {
       "model_id": "52165c6b1f634e10ab2988081ad78d64",
       "version_major": 2,
       "version_minor": 0
      },
      "text/plain": [
       "HBox(children=(FloatProgress(value=0.0, max=51816.0), HTML(value='')))"
      ]
     },
     "metadata": {},
     "output_type": "display_data"
    },
    {
     "name": "stdout",
     "output_type": "stream",
     "text": [
      "\n"
     ]
    },
    {
     "data": {
      "application/vnd.jupyter.widget-view+json": {
       "model_id": "0cee7695927744b8a15512e0299a13e8",
       "version_major": 2,
       "version_minor": 0
      },
      "text/plain": [
       "HBox(children=(FloatProgress(value=0.0, max=51816.0), HTML(value='')))"
      ]
     },
     "metadata": {},
     "output_type": "display_data"
    },
    {
     "name": "stdout",
     "output_type": "stream",
     "text": [
      "\n"
     ]
    }
   ],
   "source": [
    "ndf = pd.read_csv(tokenizing_dir / 'news-{}.csv'.format(DATA_NOSTOPS_TYPE))\n",
    "\n",
    "title_trigrams = make_trigrams([x.split(' ') if x is not np.nan else x for x in ndf.title])\n",
    "lede_trigrams = make_trigrams([x.split(' ') if x is not np.nan else x for x in ndf.lede])\n",
    "contents_trigrams = make_trigrams([x.split(' ') if x is not np.nan else x for x in ndf.contents])\n",
    "\n",
    "ndf.title = [' '.join(x) if x is not np.nan else x for x in title_trigrams]\n",
    "ndf.lede = [' '.join(x) if x is not np.nan else x for x in lede_trigrams]\n",
    "ndf.contents = [' '.join(x) if x is not np.nan else x for x in contents_trigrams]"
   ]
  },
  {
   "cell_type": "code",
   "execution_count": 9,
   "metadata": {},
   "outputs": [
    {
     "data": {
      "text/plain": [
       "['진에어 갱_플랭크 신경전',\n",
       " '진에어 년 테크_트리',\n",
       " '롤_드_컵 선발전 갱_맘 이창석 분위기_반전 진에어 세트 승리',\n",
       " '롤_드_컵 선발전 야스오 운영 세트',\n",
       " '롤_드_컵 선발전 마지막 교전 방 역전승 세트 선취',\n",
       " '롤_드_컵 선발전 진에어 날개 우승 롤_드_컵 숙원',\n",
       " '전투_민족 인_빅_터스 롤_드_컵 진출 번 팀',\n",
       " '감독 코멘트 이지훈_감독 팀 시너지 발휘',\n",
       " '팀 창단_후 롤_드_컵 진출 성공',\n",
       " '롤_드_컵 선발전 썸데이 김찬호 야스오 활약 세트 승리']"
      ]
     },
     "execution_count": 9,
     "metadata": {},
     "output_type": "execute_result"
    }
   ],
   "source": [
    "[join_jamos(x) for x in ndf.title[1000:1010]]"
   ]
  },
  {
   "cell_type": "code",
   "execution_count": 9,
   "metadata": {},
   "outputs": [
    {
     "data": {
      "text/html": [
       "<div>\n",
       "<style scoped>\n",
       "    .dataframe tbody tr th:only-of-type {\n",
       "        vertical-align: middle;\n",
       "    }\n",
       "\n",
       "    .dataframe tbody tr th {\n",
       "        vertical-align: top;\n",
       "    }\n",
       "\n",
       "    .dataframe thead th {\n",
       "        text-align: right;\n",
       "    }\n",
       "</style>\n",
       "<table border=\"1\" class=\"dataframe\">\n",
       "  <thead>\n",
       "    <tr style=\"text-align: right;\">\n",
       "      <th></th>\n",
       "      <th>date</th>\n",
       "      <th>date_input</th>\n",
       "      <th>date_modify</th>\n",
       "      <th>ranking</th>\n",
       "      <th>thumbnail</th>\n",
       "      <th>title</th>\n",
       "      <th>lede</th>\n",
       "      <th>office</th>\n",
       "      <th>contents</th>\n",
       "      <th>vod</th>\n",
       "      <th>view</th>\n",
       "    </tr>\n",
       "  </thead>\n",
       "  <tbody>\n",
       "    <tr>\n",
       "      <th>0</th>\n",
       "      <td>20150801</td>\n",
       "      <td>20150801 00:49</td>\n",
       "      <td>20150801 00:49</td>\n",
       "      <td>1</td>\n",
       "      <td>1</td>\n",
       "      <td>핫_매치 리뷰 불량 학생 노동현 수능 대박 스토리</td>\n",
       "      <td>탈선 수능_만점 년 월 일 타이거즈 롤스터 정규_시즌 라운드 일 차 경기 팀 포스트_시즌</td>\n",
       "      <td>인벤</td>\n",
       "      <td>탈선 수능_만점 년 월 일 타이거즈 롤스터 정규_시즌 라운드 일 차 경기 팀 포스트...</td>\n",
       "      <td>0.0</td>\n",
       "      <td>198042</td>\n",
       "    </tr>\n",
       "    <tr>\n",
       "      <th>1</th>\n",
       "      <td>20150801</td>\n",
       "      <td>20150801 23:32</td>\n",
       "      <td>20150801 23:32</td>\n",
       "      <td>2</td>\n",
       "      <td>1</td>\n",
       "      <td>섬머 베누_소닉붐 뉴_클리어 사신 인터뷰 앞 승리</td>\n",
       "      <td>금일 일 롤 섬머_시즌 사상 스_베누_소닉붐 번 승리 기록 연패 번 승리 만큼 의미 감동</td>\n",
       "      <td>헝그리앱</td>\n",
       "      <td>금일 일 롤 섬머_시즌 사상 스_베누_소닉붐 번 승리 기록 연패 번 승리 만큼 의미...</td>\n",
       "      <td>0.0</td>\n",
       "      <td>8657</td>\n",
       "    </tr>\n",
       "    <tr>\n",
       "      <th>2</th>\n",
       "      <td>20150801</td>\n",
       "      <td>20150801 20:10</td>\n",
       "      <td>20150801 20:10</td>\n",
       "      <td>3</td>\n",
       "      <td>1</td>\n",
       "      <td>섬머 뱅 배준식 인터뷰 솔로_랭크 데 멘탈 중요</td>\n",
       "      <td>승리 소감 경기 오랜만 배성웅 벵 형 이지훈 이지훈 형 오랜만 때문 그 내</td>\n",
       "      <td>헝그리앱</td>\n",
       "      <td>승리 소감 경기 오랜만 배성웅 벵 형 이지훈 이지훈 형 오랜만 때문 그 내 편 다행...</td>\n",
       "      <td>0.0</td>\n",
       "      <td>416</td>\n",
       "    </tr>\n",
       "    <tr>\n",
       "      <th>3</th>\n",
       "      <td>20150801</td>\n",
       "      <td>20150801 23:31</td>\n",
       "      <td>20150801 23:31</td>\n",
       "      <td>4</td>\n",
       "      <td>1</td>\n",
       "      <td>롬 섬머 베누_소닉붐 꼴찌 반격 개시 동안 설움 설욕 대망 승리</td>\n",
       "      <td>롤 섬머 경기 세트 기세 스_베누_소닉붐 승리 때문 진에어_그린_윙스 마지막 세트 ...</td>\n",
       "      <td>헝그리앱</td>\n",
       "      <td>롤 섬머 경기 세트 기세 스_베누_소닉붐 승리 때문 진에어_그린_윙스 마지막 세트 ...</td>\n",
       "      <td>0.0</td>\n",
       "      <td>0</td>\n",
       "    </tr>\n",
       "    <tr>\n",
       "      <th>4</th>\n",
       "      <td>20150801</td>\n",
       "      <td>20150801 21:58</td>\n",
       "      <td>20150801 21:58</td>\n",
       "      <td>5</td>\n",
       "      <td>1</td>\n",
       "      <td>롬 섬머 베누_소닉붐 타_대승 기반 세트 승리</td>\n",
       "      <td>롤 섬머 경기 세트 시작 세트 때 진에어_그린_윙스 스_베누_소닉붐 세트 때 미드 ...</td>\n",
       "      <td>헝그리앱</td>\n",
       "      <td>롤 섬머 경기 세트 시작 세트 때 진에어_그린_윙스 스_베누_소닉붐 세트 때 미드 ...</td>\n",
       "      <td>0.0</td>\n",
       "      <td>0</td>\n",
       "    </tr>\n",
       "    <tr>\n",
       "      <th>...</th>\n",
       "      <td>...</td>\n",
       "      <td>...</td>\n",
       "      <td>...</td>\n",
       "      <td>...</td>\n",
       "      <td>...</td>\n",
       "      <td>...</td>\n",
       "      <td>...</td>\n",
       "      <td>...</td>\n",
       "      <td>...</td>\n",
       "      <td>...</td>\n",
       "      <td>...</td>\n",
       "    </tr>\n",
       "    <tr>\n",
       "      <th>51811</th>\n",
       "      <td>20200430</td>\n",
       "      <td>20200430 17:49</td>\n",
       "      <td>20200430 17:56</td>\n",
       "      <td>26</td>\n",
       "      <td>1</td>\n",
       "      <td>승강_전 다이브 승리 샌드박스 서라벌 세트 선승</td>\n",
       "      <td>일_종각 파크 섬머_스플릿 승강_전 최종_전 세트 샌드박스_게이밍 서라벌_게이밍 승...</td>\n",
       "      <td>인벤</td>\n",
       "      <td>일_종각 파크 섬머_스플릿 승강_전 최종_전 세트 샌드박스_게이밍 서라벌_게이밍 승...</td>\n",
       "      <td>0.0</td>\n",
       "      <td>1166</td>\n",
       "    </tr>\n",
       "    <tr>\n",
       "      <th>51812</th>\n",
       "      <td>20200430</td>\n",
       "      <td>20200430 16:14</td>\n",
       "      <td>20200430 16:31</td>\n",
       "      <td>27</td>\n",
       "      <td>1</td>\n",
       "      <td>승강_전 서라벌 샌드박스 베스트_라인업 맞대결</td>\n",
       "      <td>서머 최종_전 대결 서라벌_게이밍 위 샌드박스_게이밍 사진 라이엇_게임즈 제공 마지...</td>\n",
       "      <td>데일리e스포츠</td>\n",
       "      <td>마지막 승강_전 승리 서라벌_게이밍 샌드박스_게이밍 승강_전 기용 베스트_라인업 출...</td>\n",
       "      <td>0.0</td>\n",
       "      <td>1057</td>\n",
       "    </tr>\n",
       "    <tr>\n",
       "      <th>51813</th>\n",
       "      <td>20200430</td>\n",
       "      <td>20200430 17:50</td>\n",
       "      <td>20200430 17:50</td>\n",
       "      <td>28</td>\n",
       "      <td>1</td>\n",
       "      <td>일방 전투 승리 샌드박스_게이밍 서라벌_게이밍 상대 세트 승리</td>\n",
       "      <td>일 우리은행 승강_전 최종진_출전 샌드박스_게이밍 서라벌_게이밍 세트 경기 초반 기...</td>\n",
       "      <td>엑스포츠뉴스</td>\n",
       "      <td>일 우리은행 승강_전 최종진_출전 샌드박스_게이밍 서라벌_게이밍 세트 경기 초반 기...</td>\n",
       "      <td>0.0</td>\n",
       "      <td>835</td>\n",
       "    </tr>\n",
       "    <tr>\n",
       "      <th>51814</th>\n",
       "      <td>20200430</td>\n",
       "      <td>20200430 18:05</td>\n",
       "      <td>20200430 18:05</td>\n",
       "      <td>29</td>\n",
       "      <td>1</td>\n",
       "      <td>승강_전 샌드박스 카운터 기선_제압</td>\n",
       "      <td>용준 기자 최후 승강_전 샌드박스 다이브 공세 흐름 샌드박스 승강_전 최종_전 서전</td>\n",
       "      <td>OSEN</td>\n",
       "      <td>최후 승강_전 샌드박스 다이브 공세 흐름 샌드박스 승강_전 최종_전 서전 승리 장식...</td>\n",
       "      <td>0.0</td>\n",
       "      <td>490</td>\n",
       "    </tr>\n",
       "    <tr>\n",
       "      <th>51815</th>\n",
       "      <td>20200430</td>\n",
       "      <td>20200430 18:51</td>\n",
       "      <td>20200430 18:51</td>\n",
       "      <td>30</td>\n",
       "      <td>1</td>\n",
       "      <td>승강_전 샌드박스 집중력 혼전 승리 리드</td>\n",
       "      <td>용준 기자 기회 샌드박스 최후 승강_전 생환 승 샌드박스 일_오후_서울</td>\n",
       "      <td>OSEN</td>\n",
       "      <td>기회 샌드박스 최후 승강_전 생환 승 샌드박스 일_오후_서울 종로_롤_파크 아레나 ...</td>\n",
       "      <td>0.0</td>\n",
       "      <td>460</td>\n",
       "    </tr>\n",
       "  </tbody>\n",
       "</table>\n",
       "<p>51816 rows × 11 columns</p>\n",
       "</div>"
      ],
      "text/plain": [
       "           date      date_input     date_modify  ranking  thumbnail  \\\n",
       "0      20150801  20150801 00:49  20150801 00:49        1          1   \n",
       "1      20150801  20150801 23:32  20150801 23:32        2          1   \n",
       "2      20150801  20150801 20:10  20150801 20:10        3          1   \n",
       "3      20150801  20150801 23:31  20150801 23:31        4          1   \n",
       "4      20150801  20150801 21:58  20150801 21:58        5          1   \n",
       "...         ...             ...             ...      ...        ...   \n",
       "51811  20200430  20200430 17:49  20200430 17:56       26          1   \n",
       "51812  20200430  20200430 16:14  20200430 16:31       27          1   \n",
       "51813  20200430  20200430 17:50  20200430 17:50       28          1   \n",
       "51814  20200430  20200430 18:05  20200430 18:05       29          1   \n",
       "51815  20200430  20200430 18:51  20200430 18:51       30          1   \n",
       "\n",
       "                                     title  \\\n",
       "0              핫_매치 리뷰 불량 학생 노동현 수능 대박 스토리   \n",
       "1              섬머 베누_소닉붐 뉴_클리어 사신 인터뷰 앞 승리   \n",
       "2               섬머 뱅 배준식 인터뷰 솔로_랭크 데 멘탈 중요   \n",
       "3      롬 섬머 베누_소닉붐 꼴찌 반격 개시 동안 설움 설욕 대망 승리   \n",
       "4                롬 섬머 베누_소닉붐 타_대승 기반 세트 승리   \n",
       "...                                    ...   \n",
       "51811           승강_전 다이브 승리 샌드박스 서라벌 세트 선승   \n",
       "51812            승강_전 서라벌 샌드박스 베스트_라인업 맞대결   \n",
       "51813   일방 전투 승리 샌드박스_게이밍 서라벌_게이밍 상대 세트 승리   \n",
       "51814                  승강_전 샌드박스 카운터 기선_제압   \n",
       "51815               승강_전 샌드박스 집중력 혼전 승리 리드   \n",
       "\n",
       "                                                    lede   office  \\\n",
       "0      탈선 수능_만점 년 월 일 타이거즈 롤스터 정규_시즌 라운드 일 차 경기 팀 포스트_시즌       인벤   \n",
       "1      금일 일 롤 섬머_시즌 사상 스_베누_소닉붐 번 승리 기록 연패 번 승리 만큼 의미 감동     헝그리앱   \n",
       "2              승리 소감 경기 오랜만 배성웅 벵 형 이지훈 이지훈 형 오랜만 때문 그 내     헝그리앱   \n",
       "3      롤 섬머 경기 세트 기세 스_베누_소닉붐 승리 때문 진에어_그린_윙스 마지막 세트 ...     헝그리앱   \n",
       "4      롤 섬머 경기 세트 시작 세트 때 진에어_그린_윙스 스_베누_소닉붐 세트 때 미드 ...     헝그리앱   \n",
       "...                                                  ...      ...   \n",
       "51811  일_종각 파크 섬머_스플릿 승강_전 최종_전 세트 샌드박스_게이밍 서라벌_게이밍 승...       인벤   \n",
       "51812  서머 최종_전 대결 서라벌_게이밍 위 샌드박스_게이밍 사진 라이엇_게임즈 제공 마지...  데일리e스포츠   \n",
       "51813  일 우리은행 승강_전 최종진_출전 샌드박스_게이밍 서라벌_게이밍 세트 경기 초반 기...   엑스포츠뉴스   \n",
       "51814     용준 기자 최후 승강_전 샌드박스 다이브 공세 흐름 샌드박스 승강_전 최종_전 서전     OSEN   \n",
       "51815            용준 기자 기회 샌드박스 최후 승강_전 생환 승 샌드박스 일_오후_서울     OSEN   \n",
       "\n",
       "                                                contents  vod    view  \n",
       "0      탈선 수능_만점 년 월 일 타이거즈 롤스터 정규_시즌 라운드 일 차 경기 팀 포스트...  0.0  198042  \n",
       "1      금일 일 롤 섬머_시즌 사상 스_베누_소닉붐 번 승리 기록 연패 번 승리 만큼 의미...  0.0    8657  \n",
       "2      승리 소감 경기 오랜만 배성웅 벵 형 이지훈 이지훈 형 오랜만 때문 그 내 편 다행...  0.0     416  \n",
       "3      롤 섬머 경기 세트 기세 스_베누_소닉붐 승리 때문 진에어_그린_윙스 마지막 세트 ...  0.0       0  \n",
       "4      롤 섬머 경기 세트 시작 세트 때 진에어_그린_윙스 스_베누_소닉붐 세트 때 미드 ...  0.0       0  \n",
       "...                                                  ...  ...     ...  \n",
       "51811  일_종각 파크 섬머_스플릿 승강_전 최종_전 세트 샌드박스_게이밍 서라벌_게이밍 승...  0.0    1166  \n",
       "51812  마지막 승강_전 승리 서라벌_게이밍 샌드박스_게이밍 승강_전 기용 베스트_라인업 출...  0.0    1057  \n",
       "51813  일 우리은행 승강_전 최종진_출전 샌드박스_게이밍 서라벌_게이밍 세트 경기 초반 기...  0.0     835  \n",
       "51814  최후 승강_전 샌드박스 다이브 공세 흐름 샌드박스 승강_전 최종_전 서전 승리 장식...  0.0     490  \n",
       "51815  기회 샌드박스 최후 승강_전 생환 승 샌드박스 일_오후_서울 종로_롤_파크 아레나 ...  0.0     460  \n",
       "\n",
       "[51816 rows x 11 columns]"
      ]
     },
     "execution_count": 9,
     "metadata": {},
     "output_type": "execute_result"
    }
   ],
   "source": [
    "ndf.to_csv(embedding_dir / 'news-{}-trigram.csv'.format(DATA_NOSTOPS_TYPE), index=False)\n",
    "ndf"
   ]
  },
  {
   "cell_type": "code",
   "execution_count": null,
   "metadata": {},
   "outputs": [],
   "source": []
  }
 ],
 "metadata": {
  "kernelspec": {
   "display_name": "Python 3",
   "language": "python",
   "name": "python3"
  },
  "language_info": {
   "codemirror_mode": {
    "name": "ipython",
    "version": 3
   },
   "file_extension": ".py",
   "mimetype": "text/x-python",
   "name": "python",
   "nbconvert_exporter": "python",
   "pygments_lexer": "ipython3",
   "version": "3.6.9"
  }
 },
 "nbformat": 4,
 "nbformat_minor": 4
}
