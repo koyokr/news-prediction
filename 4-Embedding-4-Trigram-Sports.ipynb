{
 "cells": [
  {
   "cell_type": "code",
   "execution_count": 1,
   "metadata": {},
   "outputs": [
    {
     "name": "stderr",
     "output_type": "stream",
     "text": [
      "c:\\python37\\lib\\site-packages\\tqdm\\std.py:668: FutureWarning: The Panel class is removed from pandas. Accessing it from the top-level namespace will also be removed in the next version\n",
      "  from pandas import Panel\n"
     ]
    }
   ],
   "source": [
    "from pathlib import Path\n",
    "\n",
    "import numpy as np\n",
    "import pandas as pd\n",
    "\n",
    "import gensim\n",
    "\n",
    "from tqdm.auto import tqdm\n",
    "tqdm.pandas()\n",
    "\n",
    "from unicode import join_jamos"
   ]
  },
  {
   "cell_type": "code",
   "execution_count": 2,
   "metadata": {},
   "outputs": [],
   "source": [
    "DATA_TYPE = 'full-morphs-jamo'\n",
    "DATA_NOSTOPS_TYPE = 'full-nouns-jamo'"
   ]
  },
  {
   "cell_type": "code",
   "execution_count": 3,
   "metadata": {},
   "outputs": [],
   "source": [
    "DATA_DIR = 'lol'\n",
    "TOKENIZING_DIR = '3-tokenizing'\n",
    "EMBEDDING_DIR = '4-embedding'\n",
    "\n",
    "tokenizing_dir = Path(TOKENIZING_DIR) / DATA_DIR\n",
    "embedding_dir = Path(EMBEDDING_DIR) / DATA_DIR\n",
    "embedding_dir.mkdir(parents=True, exist_ok=True)"
   ]
  },
  {
   "cell_type": "markdown",
   "metadata": {},
   "source": [
    "### tokenize"
   ]
  },
  {
   "cell_type": "code",
   "execution_count": null,
   "metadata": {},
   "outputs": [],
   "source": [
    "df = pd.read_csv(tokenizing_dir / 'news-{}.csv'.format(DATA_TYPE)).dropna()\n",
    "contents = [x.split(' ') for x in df.contents]"
   ]
  },
  {
   "cell_type": "markdown",
   "metadata": {},
   "source": [
    "### model"
   ]
  },
  {
   "cell_type": "code",
   "execution_count": null,
   "metadata": {},
   "outputs": [],
   "source": [
    "bigram = gensim.models.Phrases(contents)\n",
    "bigram_mod = gensim.models.phrases.Phraser(bigram)\n",
    "\n",
    "trigram = gensim.models.Phrases(bigram[contents])\n",
    "trigram_mod = gensim.models.phrases.Phraser(trigram)"
   ]
  },
  {
   "cell_type": "markdown",
   "metadata": {},
   "source": [
    "### save"
   ]
  },
  {
   "cell_type": "code",
   "execution_count": null,
   "metadata": {},
   "outputs": [],
   "source": [
    "bigram_mod_path = embedding_dir / 'news-{}-bigram.bin'.format(DATA_TYPE)\n",
    "bigram_mod.save(str(bigram_mod_path))\n",
    "\n",
    "trigram_mod_path = embedding_dir / 'news-{}-trigram.bin'.format(DATA_TYPE)\n",
    "trigram_mod.save(str(trigram_mod_path))"
   ]
  },
  {
   "cell_type": "markdown",
   "metadata": {},
   "source": [
    "### load"
   ]
  },
  {
   "cell_type": "code",
   "execution_count": 4,
   "metadata": {},
   "outputs": [],
   "source": [
    "bigram_mod_path = embedding_dir / 'news-{}-bigram.bin'.format(DATA_TYPE)\n",
    "trigram_mod_path = embedding_dir / 'news-{}-trigram.bin'.format(DATA_TYPE)\n",
    "\n",
    "bigram_mod = gensim.models.phrases.Phraser.load(str(bigram_mod_path))\n",
    "trigram_mod = gensim.models.phrases.Phraser.load(str(trigram_mod_path))\n",
    "\n",
    "def make_bigrams(texts):\n",
    "    return [bigram_mod[doc] if doc is not np.nan else doc for doc in tqdm(texts)]\n",
    "\n",
    "def make_trigrams(texts):\n",
    "    return [trigram_mod[bigram_mod[doc]] if doc is not np.nan else doc for doc in tqdm(texts)]"
   ]
  },
  {
   "cell_type": "markdown",
   "metadata": {},
   "source": [
    "### transform"
   ]
  },
  {
   "cell_type": "code",
   "execution_count": 5,
   "metadata": {},
   "outputs": [
    {
     "data": {
      "application/vnd.jupyter.widget-view+json": {
       "model_id": "fc9214fca0be4a46b42f9430b85a83c8",
       "version_major": 2,
       "version_minor": 0
      },
      "text/plain": [
       "HBox(children=(FloatProgress(value=0.0, max=51816.0), HTML(value='')))"
      ]
     },
     "metadata": {},
     "output_type": "display_data"
    },
    {
     "name": "stdout",
     "output_type": "stream",
     "text": [
      "\n"
     ]
    },
    {
     "data": {
      "application/vnd.jupyter.widget-view+json": {
       "model_id": "94895b8be22245f9a0bf6fc37b02fcf8",
       "version_major": 2,
       "version_minor": 0
      },
      "text/plain": [
       "HBox(children=(FloatProgress(value=0.0, max=51816.0), HTML(value='')))"
      ]
     },
     "metadata": {},
     "output_type": "display_data"
    },
    {
     "name": "stdout",
     "output_type": "stream",
     "text": [
      "\n"
     ]
    },
    {
     "data": {
      "application/vnd.jupyter.widget-view+json": {
       "model_id": "3fc50d8403ea4506ac3fb1b4a5740020",
       "version_major": 2,
       "version_minor": 0
      },
      "text/plain": [
       "HBox(children=(FloatProgress(value=0.0, max=51816.0), HTML(value='')))"
      ]
     },
     "metadata": {},
     "output_type": "display_data"
    },
    {
     "name": "stdout",
     "output_type": "stream",
     "text": [
      "\n"
     ]
    }
   ],
   "source": [
    "ndf = pd.read_csv(tokenizing_dir / 'news-{}.csv'.format(DATA_NOSTOPS_TYPE))\n",
    "\n",
    "title_trigrams = make_trigrams([x.split(' ') if x is not np.nan else x for x in ndf.title])\n",
    "lede_trigrams = make_trigrams([x.split(' ') if x is not np.nan else x for x in ndf.lede])\n",
    "contents_trigrams = make_trigrams([x.split(' ') if x is not np.nan else x for x in ndf.contents])\n",
    "\n",
    "ndf.title = [' '.join(x) if x is not np.nan else x for x in title_trigrams]\n",
    "ndf.lede = [' '.join(x) if x is not np.nan else x for x in title_trigrams]\n",
    "ndf.contents = [' '.join(x) if x is not np.nan else x for x in title_trigrams]"
   ]
  },
  {
   "cell_type": "code",
   "execution_count": 7,
   "metadata": {},
   "outputs": [
    {
     "data": {
      "text/plain": [
       "['진에어 갱_플랭크 신경전',\n",
       " '진에어 년 테크_트리',\n",
       " '롤_드 컵 선발전 갱_맘 이창석 분위기_반전 진에어 세트 승리',\n",
       " '롤_드 컵 선발전 야스오 운영 세트',\n",
       " '롤_드 컵 선발전 마지막 교전 방 역전승 세트 선취',\n",
       " '롤_드 컵 선발전 진에어 날개 우승 드_컵 숙원',\n",
       " '전투_민족 인_빅 터스 롤_드 컵 진출 번 팀',\n",
       " '감독 코멘트 이지훈_감독 팀 시너지 발휘',\n",
       " '팀 창단 후 롤_드 컵 진출 성공',\n",
       " '롤_드 컵 선발전 썸데이 김찬호 야스오 활약 세트 승리']"
      ]
     },
     "execution_count": 7,
     "metadata": {},
     "output_type": "execute_result"
    }
   ],
   "source": [
    "# bigram\n",
    "[join_jamos(x) for x in ndf.title[1000:1010]]"
   ]
  },
  {
   "cell_type": "code",
   "execution_count": 7,
   "metadata": {},
   "outputs": [
    {
     "data": {
      "text/plain": [
       "['진에어 갱_플랭크 신경전',\n",
       " '진에어 년 테크_트리',\n",
       " '롤_드_컵 선발전 갱_맘 이창석 분위기_반전 진에어 세트 승리',\n",
       " '롤_드_컵 선발전 야스오 운영 세트',\n",
       " '롤_드_컵 선발전 마지막 교전 방 역전승 세트 선취',\n",
       " '롤_드_컵 선발전 진에어 날개 우승 드_컵 숙원',\n",
       " '전투_민족 인_빅_터스 롤_드_컵 진출 번 팀',\n",
       " '감독 코멘트 이지훈_감독 팀 시너지 발휘',\n",
       " '팀 창단_후 롤_드_컵 진출 성공',\n",
       " '롤_드_컵 선발전 썸데이 김찬호 야스오 활약 세트 승리']"
      ]
     },
     "execution_count": 7,
     "metadata": {},
     "output_type": "execute_result"
    }
   ],
   "source": [
    "# trigram\n",
    "[join_jamos(x) for x in ndf.title[1000:1010]]"
   ]
  },
  {
   "cell_type": "code",
   "execution_count": 7,
   "metadata": {},
   "outputs": [
    {
     "data": {
      "text/html": [
       "<div>\n",
       "<style scoped>\n",
       "    .dataframe tbody tr th:only-of-type {\n",
       "        vertical-align: middle;\n",
       "    }\n",
       "\n",
       "    .dataframe tbody tr th {\n",
       "        vertical-align: top;\n",
       "    }\n",
       "\n",
       "    .dataframe thead th {\n",
       "        text-align: right;\n",
       "    }\n",
       "</style>\n",
       "<table border=\"1\" class=\"dataframe\">\n",
       "  <thead>\n",
       "    <tr style=\"text-align: right;\">\n",
       "      <th></th>\n",
       "      <th>date</th>\n",
       "      <th>date_input</th>\n",
       "      <th>date_modify</th>\n",
       "      <th>ranking</th>\n",
       "      <th>thumbnail</th>\n",
       "      <th>title</th>\n",
       "      <th>lede</th>\n",
       "      <th>office</th>\n",
       "      <th>contents</th>\n",
       "      <th>vod</th>\n",
       "      <th>view</th>\n",
       "    </tr>\n",
       "  </thead>\n",
       "  <tbody>\n",
       "    <tr>\n",
       "      <th>0</th>\n",
       "      <td>20150801</td>\n",
       "      <td>20150801 12:49</td>\n",
       "      <td>20150801 12:49</td>\n",
       "      <td>1</td>\n",
       "      <td>1</td>\n",
       "      <td>ㅎㅏㅅ_ㅁㅐㅊㅣ ㄹㅣㅂㅠ ㅂㅜㄹㄹㅑㅇ ㅎㅏㄱㅅㅐㅇ ㄴㅗㄷㅗㅇㅎㅕㄴ ㅅㅜㄴㅡㅇ ㄷㅐㅂ...</td>\n",
       "      <td>ㅎㅏㅅ_ㅁㅐㅊㅣ ㄹㅣㅂㅠ ㅂㅜㄹㄹㅑㅇ ㅎㅏㄱㅅㅐㅇ ㄴㅗㄷㅗㅇㅎㅕㄴ ㅅㅜㄴㅡㅇ ㄷㅐㅂ...</td>\n",
       "      <td>인벤</td>\n",
       "      <td>ㅎㅏㅅ_ㅁㅐㅊㅣ ㄹㅣㅂㅠ ㅂㅜㄹㄹㅑㅇ ㅎㅏㄱㅅㅐㅇ ㄴㅗㄷㅗㅇㅎㅕㄴ ㅅㅜㄴㅡㅇ ㄷㅐㅂ...</td>\n",
       "      <td>0.0</td>\n",
       "      <td>198042</td>\n",
       "    </tr>\n",
       "    <tr>\n",
       "      <th>1</th>\n",
       "      <td>20150801</td>\n",
       "      <td>20150801 23:32</td>\n",
       "      <td>20150801 23:32</td>\n",
       "      <td>2</td>\n",
       "      <td>1</td>\n",
       "      <td>ㅅㅓㅁㅁㅓ ㅂㅔㄴㅜ_ㅅㅗㄴㅣㄱㅂㅜㅁ ㄴㅠ_ㅋㅡㄹㄹㅣㅇㅓ ㅇㅣㄴㅌㅓㅂㅠ ㅇㅏㅍ ㅅㅡㅇㄹㅣ</td>\n",
       "      <td>ㅅㅓㅁㅁㅓ ㅂㅔㄴㅜ_ㅅㅗㄴㅣㄱㅂㅜㅁ ㄴㅠ_ㅋㅡㄹㄹㅣㅇㅓ ㅇㅣㄴㅌㅓㅂㅠ ㅇㅏㅍ ㅅㅡㅇㄹㅣ</td>\n",
       "      <td>헝그리앱</td>\n",
       "      <td>ㅅㅓㅁㅁㅓ ㅂㅔㄴㅜ_ㅅㅗㄴㅣㄱㅂㅜㅁ ㄴㅠ_ㅋㅡㄹㄹㅣㅇㅓ ㅇㅣㄴㅌㅓㅂㅠ ㅇㅏㅍ ㅅㅡㅇㄹㅣ</td>\n",
       "      <td>0.0</td>\n",
       "      <td>8657</td>\n",
       "    </tr>\n",
       "    <tr>\n",
       "      <th>2</th>\n",
       "      <td>20150801</td>\n",
       "      <td>20150801 20:10</td>\n",
       "      <td>20150801 20:10</td>\n",
       "      <td>3</td>\n",
       "      <td>1</td>\n",
       "      <td>ㅅㅓㅁㅁㅓ ㅂㅐㅇ ㅂㅐㅈㅜㄴㅅㅣㄱ ㅇㅣㄴㅌㅓㅂㅠ ㅅㅗㄹㄹㅗ_ㄹㅐㅇㅋㅡ ㄷㅔ ㅁㅔㄴㅌ...</td>\n",
       "      <td>ㅅㅓㅁㅁㅓ ㅂㅐㅇ ㅂㅐㅈㅜㄴㅅㅣㄱ ㅇㅣㄴㅌㅓㅂㅠ ㅅㅗㄹㄹㅗ_ㄹㅐㅇㅋㅡ ㄷㅔ ㅁㅔㄴㅌ...</td>\n",
       "      <td>헝그리앱</td>\n",
       "      <td>ㅅㅓㅁㅁㅓ ㅂㅐㅇ ㅂㅐㅈㅜㄴㅅㅣㄱ ㅇㅣㄴㅌㅓㅂㅠ ㅅㅗㄹㄹㅗ_ㄹㅐㅇㅋㅡ ㄷㅔ ㅁㅔㄴㅌ...</td>\n",
       "      <td>0.0</td>\n",
       "      <td>416</td>\n",
       "    </tr>\n",
       "    <tr>\n",
       "      <th>3</th>\n",
       "      <td>20150801</td>\n",
       "      <td>20150801 23:31</td>\n",
       "      <td>20150801 23:31</td>\n",
       "      <td>4</td>\n",
       "      <td>1</td>\n",
       "      <td>ㄹㅗㅁ ㅅㅓㅁㅁㅓ ㅂㅔㄴㅜ_ㅅㅗㄴㅣㄱㅂㅜㅁ ㄲㅗㄹㅉㅣ ㅂㅏㄴㄱㅕㄱ ㄱㅐㅅㅣ ㄷㅗㅇㅇ...</td>\n",
       "      <td>ㄹㅗㅁ ㅅㅓㅁㅁㅓ ㅂㅔㄴㅜ_ㅅㅗㄴㅣㄱㅂㅜㅁ ㄲㅗㄹㅉㅣ ㅂㅏㄴㄱㅕㄱ ㄱㅐㅅㅣ ㄷㅗㅇㅇ...</td>\n",
       "      <td>헝그리앱</td>\n",
       "      <td>ㄹㅗㅁ ㅅㅓㅁㅁㅓ ㅂㅔㄴㅜ_ㅅㅗㄴㅣㄱㅂㅜㅁ ㄲㅗㄹㅉㅣ ㅂㅏㄴㄱㅕㄱ ㄱㅐㅅㅣ ㄷㅗㅇㅇ...</td>\n",
       "      <td>0.0</td>\n",
       "      <td>0</td>\n",
       "    </tr>\n",
       "    <tr>\n",
       "      <th>4</th>\n",
       "      <td>20150801</td>\n",
       "      <td>20150801 21:58</td>\n",
       "      <td>20150801 21:58</td>\n",
       "      <td>5</td>\n",
       "      <td>1</td>\n",
       "      <td>ㄹㅗㅁ ㅅㅓㅁㅁㅓ ㅂㅔㄴㅜ_ㅅㅗㄴㅣㄱㅂㅜㅁ ㅌㅏ ㄷㅐㅅㅡㅇ ㄱㅣㅂㅏㄴ ㅅㅔㅌㅡ ㅅㅡㅇㄹㅣ</td>\n",
       "      <td>ㄹㅗㅁ ㅅㅓㅁㅁㅓ ㅂㅔㄴㅜ_ㅅㅗㄴㅣㄱㅂㅜㅁ ㅌㅏ ㄷㅐㅅㅡㅇ ㄱㅣㅂㅏㄴ ㅅㅔㅌㅡ ㅅㅡㅇㄹㅣ</td>\n",
       "      <td>헝그리앱</td>\n",
       "      <td>ㄹㅗㅁ ㅅㅓㅁㅁㅓ ㅂㅔㄴㅜ_ㅅㅗㄴㅣㄱㅂㅜㅁ ㅌㅏ ㄷㅐㅅㅡㅇ ㄱㅣㅂㅏㄴ ㅅㅔㅌㅡ ㅅㅡㅇㄹㅣ</td>\n",
       "      <td>0.0</td>\n",
       "      <td>0</td>\n",
       "    </tr>\n",
       "    <tr>\n",
       "      <th>...</th>\n",
       "      <td>...</td>\n",
       "      <td>...</td>\n",
       "      <td>...</td>\n",
       "      <td>...</td>\n",
       "      <td>...</td>\n",
       "      <td>...</td>\n",
       "      <td>...</td>\n",
       "      <td>...</td>\n",
       "      <td>...</td>\n",
       "      <td>...</td>\n",
       "      <td>...</td>\n",
       "    </tr>\n",
       "    <tr>\n",
       "      <th>51811</th>\n",
       "      <td>20200430</td>\n",
       "      <td>20200430 17:49</td>\n",
       "      <td>20200430 17:56</td>\n",
       "      <td>26</td>\n",
       "      <td>1</td>\n",
       "      <td>ㅅㅡㅇㄱㅏㅇ_ㅈㅓㄴ ㄷㅏㅇㅣㅂㅡ ㅅㅡㅇㄹㅣ ㅅㅐㄴㄷㅡㅂㅏㄱㅅㅡ ㅅㅓㄹㅏㅂㅓㄹ ㅅㅔㅌ...</td>\n",
       "      <td>ㅅㅡㅇㄱㅏㅇ_ㅈㅓㄴ ㄷㅏㅇㅣㅂㅡ ㅅㅡㅇㄹㅣ ㅅㅐㄴㄷㅡㅂㅏㄱㅅㅡ ㅅㅓㄹㅏㅂㅓㄹ ㅅㅔㅌ...</td>\n",
       "      <td>인벤</td>\n",
       "      <td>ㅅㅡㅇㄱㅏㅇ_ㅈㅓㄴ ㄷㅏㅇㅣㅂㅡ ㅅㅡㅇㄹㅣ ㅅㅐㄴㄷㅡㅂㅏㄱㅅㅡ ㅅㅓㄹㅏㅂㅓㄹ ㅅㅔㅌ...</td>\n",
       "      <td>0.0</td>\n",
       "      <td>1166</td>\n",
       "    </tr>\n",
       "    <tr>\n",
       "      <th>51812</th>\n",
       "      <td>20200430</td>\n",
       "      <td>20200430 16:14</td>\n",
       "      <td>20200430 16:31</td>\n",
       "      <td>27</td>\n",
       "      <td>1</td>\n",
       "      <td>ㅅㅡㅇㄱㅏㅇ_ㅈㅓㄴ ㅅㅓㄹㅏㅂㅓㄹ ㅅㅐㄴㄷㅡㅂㅏㄱㅅㅡ ㅂㅔㅅㅡㅌㅡ_ㄹㅏㅇㅣㄴㅇㅓㅂ ...</td>\n",
       "      <td>ㅅㅡㅇㄱㅏㅇ_ㅈㅓㄴ ㅅㅓㄹㅏㅂㅓㄹ ㅅㅐㄴㄷㅡㅂㅏㄱㅅㅡ ㅂㅔㅅㅡㅌㅡ_ㄹㅏㅇㅣㄴㅇㅓㅂ ...</td>\n",
       "      <td>데일리e스포츠</td>\n",
       "      <td>ㅅㅡㅇㄱㅏㅇ_ㅈㅓㄴ ㅅㅓㄹㅏㅂㅓㄹ ㅅㅐㄴㄷㅡㅂㅏㄱㅅㅡ ㅂㅔㅅㅡㅌㅡ_ㄹㅏㅇㅣㄴㅇㅓㅂ ...</td>\n",
       "      <td>0.0</td>\n",
       "      <td>1057</td>\n",
       "    </tr>\n",
       "    <tr>\n",
       "      <th>51813</th>\n",
       "      <td>20200430</td>\n",
       "      <td>20200430 17:50</td>\n",
       "      <td>20200430 17:50</td>\n",
       "      <td>28</td>\n",
       "      <td>1</td>\n",
       "      <td>ㅇㅣㄹㅂㅏㅇ ㅈㅓㄴㅌㅜ ㅅㅡㅇㄹㅣ ㅅㅐㄴㄷㅡㅂㅏㄱㅅㅡ_ㄱㅔㅇㅣㅁㅣㅇ ㅅㅓㄹㅏㅂㅓㄹ_...</td>\n",
       "      <td>ㅇㅣㄹㅂㅏㅇ ㅈㅓㄴㅌㅜ ㅅㅡㅇㄹㅣ ㅅㅐㄴㄷㅡㅂㅏㄱㅅㅡ_ㄱㅔㅇㅣㅁㅣㅇ ㅅㅓㄹㅏㅂㅓㄹ_...</td>\n",
       "      <td>엑스포츠뉴스</td>\n",
       "      <td>ㅇㅣㄹㅂㅏㅇ ㅈㅓㄴㅌㅜ ㅅㅡㅇㄹㅣ ㅅㅐㄴㄷㅡㅂㅏㄱㅅㅡ_ㄱㅔㅇㅣㅁㅣㅇ ㅅㅓㄹㅏㅂㅓㄹ_...</td>\n",
       "      <td>0.0</td>\n",
       "      <td>835</td>\n",
       "    </tr>\n",
       "    <tr>\n",
       "      <th>51814</th>\n",
       "      <td>20200430</td>\n",
       "      <td>20200430 18:05</td>\n",
       "      <td>20200430 18:05</td>\n",
       "      <td>29</td>\n",
       "      <td>1</td>\n",
       "      <td>ㅅㅡㅇㄱㅏㅇ_ㅈㅓㄴ ㅅㅐㄴㄷㅡㅂㅏㄱㅅㅡ ㅋㅏㅇㅜㄴㅌㅓ ㄱㅣㅅㅓㄴ_ㅈㅔㅇㅏㅂ</td>\n",
       "      <td>ㅅㅡㅇㄱㅏㅇ_ㅈㅓㄴ ㅅㅐㄴㄷㅡㅂㅏㄱㅅㅡ ㅋㅏㅇㅜㄴㅌㅓ ㄱㅣㅅㅓㄴ_ㅈㅔㅇㅏㅂ</td>\n",
       "      <td>OSEN</td>\n",
       "      <td>ㅅㅡㅇㄱㅏㅇ_ㅈㅓㄴ ㅅㅐㄴㄷㅡㅂㅏㄱㅅㅡ ㅋㅏㅇㅜㄴㅌㅓ ㄱㅣㅅㅓㄴ_ㅈㅔㅇㅏㅂ</td>\n",
       "      <td>0.0</td>\n",
       "      <td>490</td>\n",
       "    </tr>\n",
       "    <tr>\n",
       "      <th>51815</th>\n",
       "      <td>20200430</td>\n",
       "      <td>20200430 18:51</td>\n",
       "      <td>20200430 18:51</td>\n",
       "      <td>30</td>\n",
       "      <td>1</td>\n",
       "      <td>ㅅㅡㅇㄱㅏㅇ_ㅈㅓㄴ ㅅㅐㄴㄷㅡㅂㅏㄱㅅㅡ ㅈㅣㅂㅈㅜㅇㄹㅕㄱ ㅎㅗㄴㅈㅓㄴ ㅅㅡㅇㄹㅣ ㄹㅣㄷㅡ</td>\n",
       "      <td>ㅅㅡㅇㄱㅏㅇ_ㅈㅓㄴ ㅅㅐㄴㄷㅡㅂㅏㄱㅅㅡ ㅈㅣㅂㅈㅜㅇㄹㅕㄱ ㅎㅗㄴㅈㅓㄴ ㅅㅡㅇㄹㅣ ㄹㅣㄷㅡ</td>\n",
       "      <td>OSEN</td>\n",
       "      <td>ㅅㅡㅇㄱㅏㅇ_ㅈㅓㄴ ㅅㅐㄴㄷㅡㅂㅏㄱㅅㅡ ㅈㅣㅂㅈㅜㅇㄹㅕㄱ ㅎㅗㄴㅈㅓㄴ ㅅㅡㅇㄹㅣ ㄹㅣㄷㅡ</td>\n",
       "      <td>0.0</td>\n",
       "      <td>460</td>\n",
       "    </tr>\n",
       "  </tbody>\n",
       "</table>\n",
       "<p>51816 rows × 11 columns</p>\n",
       "</div>"
      ],
      "text/plain": [
       "           date      date_input     date_modify  ranking  thumbnail  \\\n",
       "0      20150801  20150801 12:49  20150801 12:49        1          1   \n",
       "1      20150801  20150801 23:32  20150801 23:32        2          1   \n",
       "2      20150801  20150801 20:10  20150801 20:10        3          1   \n",
       "3      20150801  20150801 23:31  20150801 23:31        4          1   \n",
       "4      20150801  20150801 21:58  20150801 21:58        5          1   \n",
       "...         ...             ...             ...      ...        ...   \n",
       "51811  20200430  20200430 17:49  20200430 17:56       26          1   \n",
       "51812  20200430  20200430 16:14  20200430 16:31       27          1   \n",
       "51813  20200430  20200430 17:50  20200430 17:50       28          1   \n",
       "51814  20200430  20200430 18:05  20200430 18:05       29          1   \n",
       "51815  20200430  20200430 18:51  20200430 18:51       30          1   \n",
       "\n",
       "                                                   title  \\\n",
       "0      ㅎㅏㅅ_ㅁㅐㅊㅣ ㄹㅣㅂㅠ ㅂㅜㄹㄹㅑㅇ ㅎㅏㄱㅅㅐㅇ ㄴㅗㄷㅗㅇㅎㅕㄴ ㅅㅜㄴㅡㅇ ㄷㅐㅂ...   \n",
       "1       ㅅㅓㅁㅁㅓ ㅂㅔㄴㅜ_ㅅㅗㄴㅣㄱㅂㅜㅁ ㄴㅠ_ㅋㅡㄹㄹㅣㅇㅓ ㅇㅣㄴㅌㅓㅂㅠ ㅇㅏㅍ ㅅㅡㅇㄹㅣ   \n",
       "2      ㅅㅓㅁㅁㅓ ㅂㅐㅇ ㅂㅐㅈㅜㄴㅅㅣㄱ ㅇㅣㄴㅌㅓㅂㅠ ㅅㅗㄹㄹㅗ_ㄹㅐㅇㅋㅡ ㄷㅔ ㅁㅔㄴㅌ...   \n",
       "3      ㄹㅗㅁ ㅅㅓㅁㅁㅓ ㅂㅔㄴㅜ_ㅅㅗㄴㅣㄱㅂㅜㅁ ㄲㅗㄹㅉㅣ ㅂㅏㄴㄱㅕㄱ ㄱㅐㅅㅣ ㄷㅗㅇㅇ...   \n",
       "4      ㄹㅗㅁ ㅅㅓㅁㅁㅓ ㅂㅔㄴㅜ_ㅅㅗㄴㅣㄱㅂㅜㅁ ㅌㅏ ㄷㅐㅅㅡㅇ ㄱㅣㅂㅏㄴ ㅅㅔㅌㅡ ㅅㅡㅇㄹㅣ   \n",
       "...                                                  ...   \n",
       "51811  ㅅㅡㅇㄱㅏㅇ_ㅈㅓㄴ ㄷㅏㅇㅣㅂㅡ ㅅㅡㅇㄹㅣ ㅅㅐㄴㄷㅡㅂㅏㄱㅅㅡ ㅅㅓㄹㅏㅂㅓㄹ ㅅㅔㅌ...   \n",
       "51812  ㅅㅡㅇㄱㅏㅇ_ㅈㅓㄴ ㅅㅓㄹㅏㅂㅓㄹ ㅅㅐㄴㄷㅡㅂㅏㄱㅅㅡ ㅂㅔㅅㅡㅌㅡ_ㄹㅏㅇㅣㄴㅇㅓㅂ ...   \n",
       "51813  ㅇㅣㄹㅂㅏㅇ ㅈㅓㄴㅌㅜ ㅅㅡㅇㄹㅣ ㅅㅐㄴㄷㅡㅂㅏㄱㅅㅡ_ㄱㅔㅇㅣㅁㅣㅇ ㅅㅓㄹㅏㅂㅓㄹ_...   \n",
       "51814          ㅅㅡㅇㄱㅏㅇ_ㅈㅓㄴ ㅅㅐㄴㄷㅡㅂㅏㄱㅅㅡ ㅋㅏㅇㅜㄴㅌㅓ ㄱㅣㅅㅓㄴ_ㅈㅔㅇㅏㅂ   \n",
       "51815  ㅅㅡㅇㄱㅏㅇ_ㅈㅓㄴ ㅅㅐㄴㄷㅡㅂㅏㄱㅅㅡ ㅈㅣㅂㅈㅜㅇㄹㅕㄱ ㅎㅗㄴㅈㅓㄴ ㅅㅡㅇㄹㅣ ㄹㅣㄷㅡ   \n",
       "\n",
       "                                                    lede   office  \\\n",
       "0      ㅎㅏㅅ_ㅁㅐㅊㅣ ㄹㅣㅂㅠ ㅂㅜㄹㄹㅑㅇ ㅎㅏㄱㅅㅐㅇ ㄴㅗㄷㅗㅇㅎㅕㄴ ㅅㅜㄴㅡㅇ ㄷㅐㅂ...       인벤   \n",
       "1       ㅅㅓㅁㅁㅓ ㅂㅔㄴㅜ_ㅅㅗㄴㅣㄱㅂㅜㅁ ㄴㅠ_ㅋㅡㄹㄹㅣㅇㅓ ㅇㅣㄴㅌㅓㅂㅠ ㅇㅏㅍ ㅅㅡㅇㄹㅣ     헝그리앱   \n",
       "2      ㅅㅓㅁㅁㅓ ㅂㅐㅇ ㅂㅐㅈㅜㄴㅅㅣㄱ ㅇㅣㄴㅌㅓㅂㅠ ㅅㅗㄹㄹㅗ_ㄹㅐㅇㅋㅡ ㄷㅔ ㅁㅔㄴㅌ...     헝그리앱   \n",
       "3      ㄹㅗㅁ ㅅㅓㅁㅁㅓ ㅂㅔㄴㅜ_ㅅㅗㄴㅣㄱㅂㅜㅁ ㄲㅗㄹㅉㅣ ㅂㅏㄴㄱㅕㄱ ㄱㅐㅅㅣ ㄷㅗㅇㅇ...     헝그리앱   \n",
       "4      ㄹㅗㅁ ㅅㅓㅁㅁㅓ ㅂㅔㄴㅜ_ㅅㅗㄴㅣㄱㅂㅜㅁ ㅌㅏ ㄷㅐㅅㅡㅇ ㄱㅣㅂㅏㄴ ㅅㅔㅌㅡ ㅅㅡㅇㄹㅣ     헝그리앱   \n",
       "...                                                  ...      ...   \n",
       "51811  ㅅㅡㅇㄱㅏㅇ_ㅈㅓㄴ ㄷㅏㅇㅣㅂㅡ ㅅㅡㅇㄹㅣ ㅅㅐㄴㄷㅡㅂㅏㄱㅅㅡ ㅅㅓㄹㅏㅂㅓㄹ ㅅㅔㅌ...       인벤   \n",
       "51812  ㅅㅡㅇㄱㅏㅇ_ㅈㅓㄴ ㅅㅓㄹㅏㅂㅓㄹ ㅅㅐㄴㄷㅡㅂㅏㄱㅅㅡ ㅂㅔㅅㅡㅌㅡ_ㄹㅏㅇㅣㄴㅇㅓㅂ ...  데일리e스포츠   \n",
       "51813  ㅇㅣㄹㅂㅏㅇ ㅈㅓㄴㅌㅜ ㅅㅡㅇㄹㅣ ㅅㅐㄴㄷㅡㅂㅏㄱㅅㅡ_ㄱㅔㅇㅣㅁㅣㅇ ㅅㅓㄹㅏㅂㅓㄹ_...   엑스포츠뉴스   \n",
       "51814          ㅅㅡㅇㄱㅏㅇ_ㅈㅓㄴ ㅅㅐㄴㄷㅡㅂㅏㄱㅅㅡ ㅋㅏㅇㅜㄴㅌㅓ ㄱㅣㅅㅓㄴ_ㅈㅔㅇㅏㅂ     OSEN   \n",
       "51815  ㅅㅡㅇㄱㅏㅇ_ㅈㅓㄴ ㅅㅐㄴㄷㅡㅂㅏㄱㅅㅡ ㅈㅣㅂㅈㅜㅇㄹㅕㄱ ㅎㅗㄴㅈㅓㄴ ㅅㅡㅇㄹㅣ ㄹㅣㄷㅡ     OSEN   \n",
       "\n",
       "                                                contents  vod    view  \n",
       "0      ㅎㅏㅅ_ㅁㅐㅊㅣ ㄹㅣㅂㅠ ㅂㅜㄹㄹㅑㅇ ㅎㅏㄱㅅㅐㅇ ㄴㅗㄷㅗㅇㅎㅕㄴ ㅅㅜㄴㅡㅇ ㄷㅐㅂ...  0.0  198042  \n",
       "1       ㅅㅓㅁㅁㅓ ㅂㅔㄴㅜ_ㅅㅗㄴㅣㄱㅂㅜㅁ ㄴㅠ_ㅋㅡㄹㄹㅣㅇㅓ ㅇㅣㄴㅌㅓㅂㅠ ㅇㅏㅍ ㅅㅡㅇㄹㅣ  0.0    8657  \n",
       "2      ㅅㅓㅁㅁㅓ ㅂㅐㅇ ㅂㅐㅈㅜㄴㅅㅣㄱ ㅇㅣㄴㅌㅓㅂㅠ ㅅㅗㄹㄹㅗ_ㄹㅐㅇㅋㅡ ㄷㅔ ㅁㅔㄴㅌ...  0.0     416  \n",
       "3      ㄹㅗㅁ ㅅㅓㅁㅁㅓ ㅂㅔㄴㅜ_ㅅㅗㄴㅣㄱㅂㅜㅁ ㄲㅗㄹㅉㅣ ㅂㅏㄴㄱㅕㄱ ㄱㅐㅅㅣ ㄷㅗㅇㅇ...  0.0       0  \n",
       "4      ㄹㅗㅁ ㅅㅓㅁㅁㅓ ㅂㅔㄴㅜ_ㅅㅗㄴㅣㄱㅂㅜㅁ ㅌㅏ ㄷㅐㅅㅡㅇ ㄱㅣㅂㅏㄴ ㅅㅔㅌㅡ ㅅㅡㅇㄹㅣ  0.0       0  \n",
       "...                                                  ...  ...     ...  \n",
       "51811  ㅅㅡㅇㄱㅏㅇ_ㅈㅓㄴ ㄷㅏㅇㅣㅂㅡ ㅅㅡㅇㄹㅣ ㅅㅐㄴㄷㅡㅂㅏㄱㅅㅡ ㅅㅓㄹㅏㅂㅓㄹ ㅅㅔㅌ...  0.0    1166  \n",
       "51812  ㅅㅡㅇㄱㅏㅇ_ㅈㅓㄴ ㅅㅓㄹㅏㅂㅓㄹ ㅅㅐㄴㄷㅡㅂㅏㄱㅅㅡ ㅂㅔㅅㅡㅌㅡ_ㄹㅏㅇㅣㄴㅇㅓㅂ ...  0.0    1057  \n",
       "51813  ㅇㅣㄹㅂㅏㅇ ㅈㅓㄴㅌㅜ ㅅㅡㅇㄹㅣ ㅅㅐㄴㄷㅡㅂㅏㄱㅅㅡ_ㄱㅔㅇㅣㅁㅣㅇ ㅅㅓㄹㅏㅂㅓㄹ_...  0.0     835  \n",
       "51814          ㅅㅡㅇㄱㅏㅇ_ㅈㅓㄴ ㅅㅐㄴㄷㅡㅂㅏㄱㅅㅡ ㅋㅏㅇㅜㄴㅌㅓ ㄱㅣㅅㅓㄴ_ㅈㅔㅇㅏㅂ  0.0     490  \n",
       "51815  ㅅㅡㅇㄱㅏㅇ_ㅈㅓㄴ ㅅㅐㄴㄷㅡㅂㅏㄱㅅㅡ ㅈㅣㅂㅈㅜㅇㄹㅕㄱ ㅎㅗㄴㅈㅓㄴ ㅅㅡㅇㄹㅣ ㄹㅣㄷㅡ  0.0     460  \n",
       "\n",
       "[51816 rows x 11 columns]"
      ]
     },
     "execution_count": 7,
     "metadata": {},
     "output_type": "execute_result"
    }
   ],
   "source": [
    "ndf.to_csv(embedding_dir / 'news-{}-trigram.csv'.format(DATA_NOSTOPS_TYPE), index=False)\n",
    "ndf"
   ]
  },
  {
   "cell_type": "code",
   "execution_count": null,
   "metadata": {},
   "outputs": [],
   "source": []
  }
 ],
 "metadata": {
  "kernelspec": {
   "display_name": "Python 3",
   "language": "python",
   "name": "python3"
  },
  "language_info": {
   "codemirror_mode": {
    "name": "ipython",
    "version": 3
   },
   "file_extension": ".py",
   "mimetype": "text/x-python",
   "name": "python",
   "nbconvert_exporter": "python",
   "pygments_lexer": "ipython3",
   "version": "3.7.7"
  }
 },
 "nbformat": 4,
 "nbformat_minor": 4
}
