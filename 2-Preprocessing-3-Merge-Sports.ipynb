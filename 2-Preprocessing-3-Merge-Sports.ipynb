{
 "cells": [
  {
   "cell_type": "code",
   "execution_count": 1,
   "metadata": {},
   "outputs": [],
   "source": [
    "from pathlib import Path\n",
    "\n",
    "import numpy as np\n",
    "import pandas as pd"
   ]
  },
  {
   "cell_type": "code",
   "execution_count": 2,
   "metadata": {},
   "outputs": [],
   "source": [
    "PREPROCESSING_DIR = '2-preprocessing'\n",
    "DATA_DIR = 'lol'\n",
    "\n",
    "preprocessing_dir = Path(PREPROCESSING_DIR) / DATA_DIR"
   ]
  },
  {
   "cell_type": "code",
   "execution_count": 3,
   "metadata": {},
   "outputs": [],
   "source": [
    "df = pd.concat([pd.read_csv(preprocessing_dir / 'news-outer.csv'),\n",
    "                pd.read_csv(preprocessing_dir / 'news-inner.csv')], axis=1)"
   ]
  },
  {
   "cell_type": "code",
   "execution_count": 4,
   "metadata": {},
   "outputs": [
    {
     "data": {
      "text/plain": [
       "date           False\n",
       "ranking        False\n",
       "thumbnail      False\n",
       "headline       False\n",
       "lede           False\n",
       "office         False\n",
       "view           False\n",
       "title           True\n",
       "date_input      True\n",
       "date_modify     True\n",
       "img             True\n",
       "vod             True\n",
       "contents        True\n",
       "dtype: bool"
      ]
     },
     "execution_count": 4,
     "metadata": {},
     "output_type": "execute_result"
    }
   ],
   "source": [
    "df.isnull().any()"
   ]
  },
  {
   "cell_type": "code",
   "execution_count": 5,
   "metadata": {},
   "outputs": [],
   "source": [
    "df.pop('title')\n",
    "df['title'] = df.pop('headline')\n",
    "df = df[['date', 'date_input', 'date_modify', 'ranking', 'thumbnail', 'title', 'lede', 'office', 'contents', 'vod', 'view']]"
   ]
  },
  {
   "cell_type": "code",
   "execution_count": 6,
   "metadata": {},
   "outputs": [
    {
     "data": {
      "text/plain": [
       "date           False\n",
       "date_input      True\n",
       "date_modify     True\n",
       "ranking        False\n",
       "thumbnail      False\n",
       "title          False\n",
       "lede           False\n",
       "office         False\n",
       "contents        True\n",
       "vod             True\n",
       "view           False\n",
       "dtype: bool"
      ]
     },
     "execution_count": 6,
     "metadata": {},
     "output_type": "execute_result"
    }
   ],
   "source": [
    "df.isnull().any()"
   ]
  },
  {
   "cell_type": "code",
   "execution_count": 7,
   "metadata": {},
   "outputs": [],
   "source": [
    "df.to_csv(preprocessing_dir / 'news-full.csv', index=False)"
   ]
  },
  {
   "cell_type": "code",
   "execution_count": null,
   "metadata": {},
   "outputs": [],
   "source": []
  }
 ],
 "metadata": {
  "kernelspec": {
   "display_name": "Python 3",
   "language": "python",
   "name": "python3"
  },
  "language_info": {
   "codemirror_mode": {
    "name": "ipython",
    "version": 3
   },
   "file_extension": ".py",
   "mimetype": "text/x-python",
   "name": "python",
   "nbconvert_exporter": "python",
   "pygments_lexer": "ipython3",
   "version": "3.7.7"
  }
 },
 "nbformat": 4,
 "nbformat_minor": 4
}
