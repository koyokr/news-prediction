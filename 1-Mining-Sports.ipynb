{
 "cells": [
  {
   "cell_type": "code",
   "execution_count": 1,
   "metadata": {},
   "outputs": [],
   "source": [
    "import itertools\n",
    "import json\n",
    "from datetime import datetime, timedelta\n",
    "from pathlib import Path\n",
    "\n",
    "import requests\n",
    "import yarl\n",
    "from bs4 import BeautifulSoup\n",
    "from tqdm.auto import tqdm\n",
    "\n",
    "from my_utils import get_datetimes"
   ]
  },
  {
   "cell_type": "code",
   "execution_count": 2,
   "metadata": {},
   "outputs": [],
   "source": [
    "DATA_DIR = 'lol'\n",
    "DATA_TYPE = 'popular'\n",
    "\n",
    "data_dir = Path(DATA_DIR)\n",
    "data_dir.mkdir(exist_ok=True)"
   ]
  },
  {
   "cell_type": "code",
   "execution_count": 3,
   "metadata": {},
   "outputs": [
    {
     "data": {
      "text/plain": [
       "1735"
      ]
     },
     "execution_count": 3,
     "metadata": {},
     "output_type": "execute_result"
    }
   ],
   "source": [
    "dates = get_datetimes(start=datetime(2015, 8, 1), stop=datetime(2020, 5, 1))\n",
    "len(dates)"
   ]
  },
  {
   "cell_type": "code",
   "execution_count": 6,
   "metadata": {},
   "outputs": [],
   "source": [
    "news_list_url = 'https://sports.news.naver.com/%s/news/list.nhn' % DATA_DIR\n",
    "news_read_url = 'https://sports.news.naver.com/news.nhn'\n",
    "news_reaction_url = 'https://sports.like.naver.com/v1/search/contents'\n",
    "news_comment_url = 'https://apis.naver.com/commentBox/cbox/web_naver_list_jsonp.json'"
   ]
  },
  {
   "cell_type": "code",
   "execution_count": 7,
   "metadata": {},
   "outputs": [],
   "source": [
    "s = requests.session()\n",
    "s.headers = {\n",
    "    'User-Agent': 'Mozilla/5.0 (Windows NT 10.0; Win64; x64) '\n",
    "                  'AppleWebKit/537.36 (KHTML, like Gecko) '\n",
    "                  'Chrome/81.0.4044.122 Safari/537.36 Edg/81.0.416.64',\n",
    "    'Accept-Encoding': 'gzip, deflate',\n",
    "    'Accept-Language': 'ko,en;q=0.9,en-US;q=0.8'\n",
    "}\n",
    "\n",
    "\n",
    "class NotOKError(Exception):\n",
    "    pass\n",
    "\n",
    "\n",
    "def get_resp(url, **kwargs):\n",
    "    r = s.get(url, **kwargs)\n",
    "    if not r.ok:\n",
    "        raise NotOKError(r)\n",
    "    return r"
   ]
  },
  {
   "cell_type": "code",
   "execution_count": 8,
   "metadata": {},
   "outputs": [],
   "source": [
    "def get_news_infos(date):\n",
    "    news_infos = []\n",
    "    for page in itertools.count(start=1):\n",
    "        news_list_params = {'page': page, 'date': date, 'isphoto': 'N', 'type': DATA_TYPE}\n",
    "        page_info = get_resp(news_list_url, params=news_list_params).json()\n",
    "        news_infos += page_info['list']\n",
    "        if page == page_info['totalPages']:\n",
    "            break\n",
    "    return news_infos"
   ]
  },
  {
   "cell_type": "code",
   "execution_count": 9,
   "metadata": {},
   "outputs": [
    {
     "data": {
      "text/plain": [
       "51816"
      ]
     },
     "execution_count": 9,
     "metadata": {},
     "output_type": "execute_result"
    }
   ],
   "source": [
    "news_info_path = data_dir / ('info-%s.json' % DATA_TYPE)\n",
    "if news_info_path.exists():\n",
    "    with open(news_info_path) as f:\n",
    "        news_infos_by_date = json.load(f)\n",
    "else:\n",
    "    try:\n",
    "        news_infos_by_date\n",
    "    except NameError:\n",
    "        news_infos_by_date = {date: get_news_infos(date) for date in tqdm(dates)}\n",
    "    with open(news_info_path, 'w') as f:\n",
    "        json.dump(news_infos_by_date, f, ensure_ascii=False, indent=2)\n",
    "\n",
    "sum(len(news_infos) for news_infos in news_infos_by_date.values())"
   ]
  },
  {
   "cell_type": "code",
   "execution_count": 10,
   "metadata": {},
   "outputs": [],
   "source": [
    "def download_content(url, file_path, **kwargs):\n",
    "    r = get_resp(url, **kwargs)\n",
    "    return open(file_path, 'wb').write(r.content)\n",
    "\n",
    "\n",
    "def download_html(url, file_path, **kwargs):\n",
    "    r = get_resp(url, **kwargs)\n",
    "    text = BeautifulSoup(r.text, 'html5lib').prettify()\n",
    "    return open(file_path, 'w').write(text)\n",
    "\n",
    "\n",
    "def download_json(url, file_path, **kwargs):\n",
    "    r = get_resp(url, **kwargs)\n",
    "    text = json.dumps(r.json(), ensure_ascii=False, indent=2)\n",
    "    return open(file_path, 'w').write(text)\n",
    "\n",
    "\n",
    "def download_json_containing_callback(url, file_path, **kwargs):\n",
    "    def rreplace(s, old, new, count=-1):\n",
    "        return new.join(s.rsplit(old, count))\n",
    "\n",
    "    r= get_resp(url, **kwargs)\n",
    "    raw = rreplace(r.text.replace('_callback(', '', 1), ');', '', 1)\n",
    "    text = json.dumps(json.loads(raw), ensure_ascii=False, indent=2)\n",
    "    return open(file_path, 'w').write(text)\n",
    "\n",
    "\n",
    "def replace_thumbnail_url(url):\n",
    "    return url.replace('http://imgnews.naver.net/image/thumb154/', 'https://imgnews.pstatic.net/image/origin/', 1) + '?type=nf210_122'"
   ]
  },
  {
   "cell_type": "code",
   "execution_count": 11,
   "metadata": {},
   "outputs": [
    {
     "name": "stderr",
     "output_type": "stream",
     "text": [
      " 32%|████████████████████████████▋                                                             | 552/1735 [53:05<55:01,  2.79s/it]"
     ]
    },
    {
     "name": "stdout",
     "output_type": "stream",
     "text": [
      "[!] rank=3, status_code=404: https://imgnews.pstatic.net/image/origin/241/2017/02/03/2636969.jpg?type=nf210_122\n"
     ]
    },
    {
     "name": "stderr",
     "output_type": "stream",
     "text": [
      " 32%|████████████████████████████▎                                                           | 557/1735 [53:38<2:19:46,  7.12s/it]"
     ]
    },
    {
     "name": "stdout",
     "output_type": "stream",
     "text": [
      "[!] rank=48, status_code=404: https://imgnews.pstatic.net/image/origin/241/2017/02/08/2638485.jpg?type=nf210_122\n"
     ]
    },
    {
     "name": "stderr",
     "output_type": "stream",
     "text": [
      " 33%|█████████████████████████████▍                                                          | 581/1735 [55:45<1:53:28,  5.90s/it]"
     ]
    },
    {
     "name": "stdout",
     "output_type": "stream",
     "text": [
      "[!] rank=21, status_code=404: https://imgnews.pstatic.net/image/origin/241/2017/03/03/2646933.jpg?type=nf210_122\n"
     ]
    },
    {
     "name": "stderr",
     "output_type": "stream",
     "text": [
      " 35%|██████████████████████████████▌                                                         | 603/1735 [57:54<1:50:39,  5.87s/it]"
     ]
    },
    {
     "name": "stdout",
     "output_type": "stream",
     "text": [
      "[!] rank=12, status_code=404: https://imgnews.pstatic.net/image/origin/241/2017/03/26/2655194.jpg?type=nf210_122\n"
     ]
    },
    {
     "name": "stderr",
     "output_type": "stream",
     "text": [
      " 36%|████████████████████████████████▍                                                         | 626/1735 [59:38<52:35,  2.85s/it]"
     ]
    },
    {
     "name": "stdout",
     "output_type": "stream",
     "text": [
      "[!] rank=11, status_code=404: https://imgnews.pstatic.net/image/origin/241/2017/04/18/2664097.jpg?type=nf210_122\n"
     ]
    },
    {
     "name": "stderr",
     "output_type": "stream",
     "text": [
      " 36%|███████████████████████████████▉                                                        | 630/1735 [59:51<1:08:09,  3.70s/it]"
     ]
    },
    {
     "name": "stdout",
     "output_type": "stream",
     "text": [
      "[!] rank=64, status_code=404: https://imgnews.pstatic.net/image/origin/241/2017/04/22/2665397.jpg?type=nf210_122\n"
     ]
    },
    {
     "name": "stderr",
     "output_type": "stream",
     "text": [
      " 36%|███████████████████████████████▎                                                      | 632/1735 [1:00:08<1:41:47,  5.54s/it]"
     ]
    },
    {
     "name": "stdout",
     "output_type": "stream",
     "text": [
      "[!] rank=7, status_code=404: https://imgnews.pstatic.net/image/origin/241/2017/04/23/2665684.jpg?type=nf210_122\n"
     ]
    },
    {
     "name": "stderr",
     "output_type": "stream",
     "text": [
      " 37%|███████████████████████████████▌                                                      | 637/1735 [1:00:27<1:13:45,  4.03s/it]"
     ]
    },
    {
     "name": "stdout",
     "output_type": "stream",
     "text": [
      "[!] rank=9, status_code=404: https://imgnews.pstatic.net/image/origin/241/2017/04/29/2667900.jpg?type=nf210_122\n"
     ]
    },
    {
     "name": "stderr",
     "output_type": "stream",
     "text": [
      " 37%|████████████████████████████████▊                                                       | 646/1735 [1:00:48<38:42,  2.13s/it]"
     ]
    },
    {
     "name": "stdout",
     "output_type": "stream",
     "text": [
      "[!] rank=5, status_code=404: https://imgnews.pstatic.net/image/origin/241/2017/05/08/2670444.jpg?type=nf210_122\n"
     ]
    },
    {
     "name": "stderr",
     "output_type": "stream",
     "text": [
      " 37%|████████████████████████████████▊                                                       | 648/1735 [1:00:51<30:23,  1.68s/it]"
     ]
    },
    {
     "name": "stdout",
     "output_type": "stream",
     "text": [
      "[!] rank=23, status_code=404: https://imgnews.pstatic.net/image/origin/241/2017/05/10/2670954.jpg?type=nf210_122\n"
     ]
    },
    {
     "name": "stderr",
     "output_type": "stream",
     "text": [
      " 38%|█████████████████████████████████▎                                                      | 656/1735 [1:01:25<52:32,  2.92s/it]"
     ]
    },
    {
     "name": "stdout",
     "output_type": "stream",
     "text": [
      "[!] rank=2, status_code=404: https://imgnews.pstatic.net/image/origin/241/2017/05/18/2673388.jpg?type=nf210_122\n"
     ]
    },
    {
     "name": "stderr",
     "output_type": "stream",
     "text": [
      " 38%|█████████████████████████████████▎                                                      | 658/1735 [1:01:32<56:28,  3.15s/it]"
     ]
    },
    {
     "name": "stdout",
     "output_type": "stream",
     "text": [
      "[!] rank=24, status_code=404: https://imgnews.pstatic.net/image/origin/241/2017/05/20/2674201.jpg?type=nf210_122\n"
     ]
    },
    {
     "name": "stderr",
     "output_type": "stream",
     "text": [
      " 38%|████████████████████████████████▋                                                     | 660/1735 [1:01:45<1:24:19,  4.71s/it]"
     ]
    },
    {
     "name": "stdout",
     "output_type": "stream",
     "text": [
      "[!] rank=25, status_code=404: https://imgnews.pstatic.net/image/origin/241/2017/05/22/2675044.jpg?type=nf210_122\n"
     ]
    },
    {
     "name": "stderr",
     "output_type": "stream",
     "text": [
      "100%|███████████████████████████████████████████████████████████████████████████████████████| 1735/1735 [2:17:05<00:00,  4.74s/it]\n"
     ]
    }
   ],
   "source": [
    "for date in tqdm(dates):\n",
    "    date_dir = data_dir / date\n",
    "    date_dir.mkdir(exist_ok=True)\n",
    "\n",
    "    news_infos = news_infos_by_date[date]\n",
    "    for rank, news_info in enumerate(news_infos, 1):\n",
    "        oid, aid = news_info['oid'], news_info['aid']\n",
    "        news_id = 'ne_%s_%s' % (oid, aid)\n",
    "        object_id = 'news%s,%s' % (oid, aid)\n",
    "        news_path_prefix = '%04d-%s' % (rank, news_id)\n",
    "\n",
    "        # thumbnail.jpg\n",
    "        if news_info.get('thumbnail'):\n",
    "            news_thumbnail_url = replace_thumbnail_url(news_info['thumbnail'])\n",
    "            news_thumbnail_path = date_dir / ('%s-thumbnail.jpg' % news_path_prefix)\n",
    "            try:\n",
    "                download_content(news_thumbnail_url, news_thumbnail_path)\n",
    "            except NotOKError as e:\n",
    "                r ,= e.args\n",
    "                print('[!] rank=%d, status_code=%d: %s' % (rank, r.status_code, r.url))\n",
    "\n",
    "        # read.html\n",
    "        news_read_path = date_dir / ('%s-read.html' % news_path_prefix)\n",
    "        news_read_params = {'oid': oid, 'aid': aid}\n",
    "        download_html(news_read_url, news_read_path, params=news_read_params)\n",
    "\n",
    "        # reaction.json\n",
    "        news_reaction_path = date_dir / ('%s-reaction.json' % news_path_prefix)\n",
    "        news_reaction_params = {'q': 'SPORTS[%s]|SPORTS_MAIN[%s]' % (news_id, news_id)}\n",
    "        download_json(news_reaction_url, news_reaction_path, params=news_reaction_params)\n",
    "\n",
    "        # comment.json\n",
    "        news_comment_path = date_dir / ('%s-comment.json' % news_path_prefix)\n",
    "        news_comment_params = {'ticket': 'sports', 'pool': 'cbox2', 'lang': 'ko', 'country': 'KR', 'objectId': object_id}\n",
    "        news_comment_headers = {'Referer': yarl.URL(news_reaction_url).with_query(news_read_params).human_repr()}\n",
    "        download_json_containing_callback(news_comment_url, news_comment_path, params=news_comment_params, headers=news_comment_headers)"
   ]
  },
  {
   "cell_type": "code",
   "execution_count": 12,
   "metadata": {},
   "outputs": [],
   "source": [
    "s.close()"
   ]
  },
  {
   "cell_type": "code",
   "execution_count": null,
   "metadata": {},
   "outputs": [],
   "source": []
  }
 ],
 "metadata": {
  "kernelspec": {
   "display_name": "Python 3",
   "language": "python",
   "name": "python3"
  },
  "language_info": {
   "codemirror_mode": {
    "name": "ipython",
    "version": 3
   },
   "file_extension": ".py",
   "mimetype": "text/x-python",
   "name": "python",
   "nbconvert_exporter": "python",
   "pygments_lexer": "ipython3",
   "version": "3.7.6"
  }
 },
 "nbformat": 4,
 "nbformat_minor": 4
}
