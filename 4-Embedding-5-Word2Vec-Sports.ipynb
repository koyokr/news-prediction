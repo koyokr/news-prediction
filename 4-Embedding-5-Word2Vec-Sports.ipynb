{
 "cells": [
  {
   "cell_type": "code",
   "execution_count": 1,
   "metadata": {},
   "outputs": [
    {
     "name": "stderr",
     "output_type": "stream",
     "text": [
      "c:\\python37\\lib\\site-packages\\tqdm\\std.py:668: FutureWarning: The Panel class is removed from pandas. Accessing it from the top-level namespace will also be removed in the next version\n",
      "  from pandas import Panel\n"
     ]
    }
   ],
   "source": [
    "import re\n",
    "from datetime import datetime\n",
    "from pathlib import Path\n",
    "\n",
    "import numpy as np\n",
    "import pandas as pd\n",
    "import seaborn as sns\n",
    "import matplotlib.pyplot as plt\n",
    "import tensorflow as tf\n",
    "from tensorflow.keras import backend as K\n",
    "\n",
    "import gensim\n",
    "import jamo\n",
    "from PIL import Image\n",
    "from sklearn.model_selection import train_test_split\n",
    "\n",
    "from tqdm.auto import tqdm\n",
    "tqdm.pandas()\n",
    "\n",
    "from unicode import join_jamos"
   ]
  },
  {
   "cell_type": "code",
   "execution_count": 2,
   "metadata": {},
   "outputs": [],
   "source": [
    "DATA_TYPE = 'full-nouns-jamo-trigram'\n",
    "DATA_DIR = 'lol'\n",
    "\n",
    "DIM = 300"
   ]
  },
  {
   "cell_type": "code",
   "execution_count": 3,
   "metadata": {},
   "outputs": [],
   "source": [
    "MINING_DIR = '1-mining'\n",
    "TOKENIZING_DIR = '3-tokenizing'\n",
    "EMBEDDING_DIR = '4-embedding'\n",
    "\n",
    "mining_dir = Path(MINING_DIR) / DATA_DIR\n",
    "tokenizing_dir = Path(TOKENIZING_DIR) / DATA_DIR\n",
    "embedding_dir = Path(EMBEDDING_DIR) / DATA_DIR\n",
    "embedding_dir.mkdir(parents=True, exist_ok=True)"
   ]
  },
  {
   "cell_type": "markdown",
   "metadata": {},
   "source": [
    "### data"
   ]
  },
  {
   "cell_type": "code",
   "execution_count": 4,
   "metadata": {},
   "outputs": [],
   "source": [
    "df = pd.read_csv(embedding_dir / 'news-{}.csv'.format(DATA_TYPE)).dropna()"
   ]
  },
  {
   "cell_type": "code",
   "execution_count": 5,
   "metadata": {},
   "outputs": [],
   "source": [
    "sentences = [x.split(' ') + y.split(' ') for x, y in zip(df.title, df.contents)]\n",
    "sentences, _ = train_test_split(sentences, test_size=0.2, shuffle=False)"
   ]
  },
  {
   "cell_type": "code",
   "execution_count": 6,
   "metadata": {},
   "outputs": [
    {
     "data": {
      "application/vnd.jupyter.widget-view+json": {
       "model_id": "7c6058a2633d4eaaa6e71efc3bde9ef7",
       "version_major": 2,
       "version_minor": 0
      },
      "text/plain": [
       "HBox(children=(FloatProgress(value=0.0, max=51296.0), HTML(value='')))"
      ]
     },
     "metadata": {},
     "output_type": "display_data"
    },
    {
     "name": "stdout",
     "output_type": "stream",
     "text": [
      "\n"
     ]
    },
    {
     "ename": "KeyboardInterrupt",
     "evalue": "",
     "output_type": "error",
     "traceback": [
      "\u001b[1;31m---------------------------------------------------------------------------\u001b[0m",
      "\u001b[1;31mKeyboardInterrupt\u001b[0m                         Traceback (most recent call last)",
      "\u001b[1;32m<ipython-input-6-fcffda33b2e7>\u001b[0m in \u001b[0;36m<module>\u001b[1;34m\u001b[0m\n\u001b[0;32m      8\u001b[0m         \u001b[0mthumbnail\u001b[0m \u001b[1;33m=\u001b[0m \u001b[0mnp\u001b[0m\u001b[1;33m.\u001b[0m\u001b[0masarray\u001b[0m\u001b[1;33m(\u001b[0m\u001b[0mImage\u001b[0m\u001b[1;33m.\u001b[0m\u001b[0mnew\u001b[0m\u001b[1;33m(\u001b[0m\u001b[1;34m'RGB'\u001b[0m\u001b[1;33m,\u001b[0m \u001b[1;33m(\u001b[0m\u001b[1;36m210\u001b[0m\u001b[1;33m,\u001b[0m \u001b[1;36m122\u001b[0m\u001b[1;33m)\u001b[0m\u001b[1;33m,\u001b[0m \u001b[1;33m(\u001b[0m\u001b[1;36m255\u001b[0m\u001b[1;33m,\u001b[0m \u001b[1;36m255\u001b[0m\u001b[1;33m,\u001b[0m \u001b[1;36m255\u001b[0m\u001b[1;33m)\u001b[0m\u001b[1;33m)\u001b[0m\u001b[1;33m)\u001b[0m\u001b[1;33m\u001b[0m\u001b[1;33m\u001b[0m\u001b[0m\n\u001b[0;32m      9\u001b[0m     \u001b[1;32melse\u001b[0m\u001b[1;33m:\u001b[0m\u001b[1;33m\u001b[0m\u001b[1;33m\u001b[0m\u001b[0m\n\u001b[1;32m---> 10\u001b[1;33m         \u001b[0mthumbnail\u001b[0m \u001b[1;33m=\u001b[0m \u001b[0mnp\u001b[0m\u001b[1;33m.\u001b[0m\u001b[0masarray\u001b[0m\u001b[1;33m(\u001b[0m\u001b[0mImage\u001b[0m\u001b[1;33m.\u001b[0m\u001b[0mopen\u001b[0m\u001b[1;33m(\u001b[0m\u001b[0mthumbnail_path\u001b[0m\u001b[1;33m)\u001b[0m\u001b[1;33m.\u001b[0m\u001b[0mconvert\u001b[0m\u001b[1;33m(\u001b[0m\u001b[1;34m'RGB'\u001b[0m\u001b[1;33m)\u001b[0m\u001b[1;33m)\u001b[0m\u001b[1;33m\u001b[0m\u001b[1;33m\u001b[0m\u001b[0m\n\u001b[0m\u001b[0;32m     11\u001b[0m     \u001b[0mthumbnails\u001b[0m\u001b[1;33m.\u001b[0m\u001b[0mappend\u001b[0m\u001b[1;33m(\u001b[0m\u001b[0mthumbnail\u001b[0m \u001b[1;33m/\u001b[0m \u001b[1;36m255.0\u001b[0m\u001b[1;33m)\u001b[0m\u001b[1;33m\u001b[0m\u001b[1;33m\u001b[0m\u001b[0m\n\u001b[0;32m     12\u001b[0m \u001b[0mthumbnails\u001b[0m \u001b[1;33m=\u001b[0m \u001b[0mnp\u001b[0m\u001b[1;33m.\u001b[0m\u001b[0masarray\u001b[0m\u001b[1;33m(\u001b[0m\u001b[0mthumbnails\u001b[0m\u001b[1;33m)\u001b[0m\u001b[1;33m\u001b[0m\u001b[1;33m\u001b[0m\u001b[0m\n",
      "\u001b[1;32mc:\\python37\\lib\\site-packages\\PIL\\Image.py\u001b[0m in \u001b[0;36mconvert\u001b[1;34m(self, mode, matrix, dither, palette, colors)\u001b[0m\n\u001b[0;32m    899\u001b[0m         \"\"\"\n\u001b[0;32m    900\u001b[0m \u001b[1;33m\u001b[0m\u001b[0m\n\u001b[1;32m--> 901\u001b[1;33m         \u001b[0mself\u001b[0m\u001b[1;33m.\u001b[0m\u001b[0mload\u001b[0m\u001b[1;33m(\u001b[0m\u001b[1;33m)\u001b[0m\u001b[1;33m\u001b[0m\u001b[1;33m\u001b[0m\u001b[0m\n\u001b[0m\u001b[0;32m    902\u001b[0m \u001b[1;33m\u001b[0m\u001b[0m\n\u001b[0;32m    903\u001b[0m         \u001b[1;32mif\u001b[0m \u001b[1;32mnot\u001b[0m \u001b[0mmode\u001b[0m \u001b[1;32mand\u001b[0m \u001b[0mself\u001b[0m\u001b[1;33m.\u001b[0m\u001b[0mmode\u001b[0m \u001b[1;33m==\u001b[0m \u001b[1;34m\"P\"\u001b[0m\u001b[1;33m:\u001b[0m\u001b[1;33m\u001b[0m\u001b[1;33m\u001b[0m\u001b[0m\n",
      "\u001b[1;32mc:\\python37\\lib\\site-packages\\PIL\\ImageFile.py\u001b[0m in \u001b[0;36mload\u001b[1;34m(self)\u001b[0m\n\u001b[0;32m    231\u001b[0m                         \u001b[1;32mwhile\u001b[0m \u001b[1;32mTrue\u001b[0m\u001b[1;33m:\u001b[0m\u001b[1;33m\u001b[0m\u001b[1;33m\u001b[0m\u001b[0m\n\u001b[0;32m    232\u001b[0m                             \u001b[1;32mtry\u001b[0m\u001b[1;33m:\u001b[0m\u001b[1;33m\u001b[0m\u001b[1;33m\u001b[0m\u001b[0m\n\u001b[1;32m--> 233\u001b[1;33m                                 \u001b[0ms\u001b[0m \u001b[1;33m=\u001b[0m \u001b[0mread\u001b[0m\u001b[1;33m(\u001b[0m\u001b[0mself\u001b[0m\u001b[1;33m.\u001b[0m\u001b[0mdecodermaxblock\u001b[0m\u001b[1;33m)\u001b[0m\u001b[1;33m\u001b[0m\u001b[1;33m\u001b[0m\u001b[0m\n\u001b[0m\u001b[0;32m    234\u001b[0m                             \u001b[1;32mexcept\u001b[0m \u001b[1;33m(\u001b[0m\u001b[0mIndexError\u001b[0m\u001b[1;33m,\u001b[0m \u001b[0mstruct\u001b[0m\u001b[1;33m.\u001b[0m\u001b[0merror\u001b[0m\u001b[1;33m)\u001b[0m\u001b[1;33m:\u001b[0m\u001b[1;33m\u001b[0m\u001b[1;33m\u001b[0m\u001b[0m\n\u001b[0;32m    235\u001b[0m                                 \u001b[1;31m# truncated png/gif\u001b[0m\u001b[1;33m\u001b[0m\u001b[1;33m\u001b[0m\u001b[1;33m\u001b[0m\u001b[0m\n",
      "\u001b[1;32mc:\\python37\\lib\\site-packages\\PIL\\JpegImagePlugin.py\u001b[0m in \u001b[0;36mload_read\u001b[1;34m(self, read_bytes)\u001b[0m\n\u001b[0;32m    392\u001b[0m         \u001b[0mso\u001b[0m \u001b[0mlibjpeg\u001b[0m \u001b[0mcan\u001b[0m \u001b[0mfinish\u001b[0m \u001b[0mdecoding\u001b[0m\u001b[1;33m\u001b[0m\u001b[1;33m\u001b[0m\u001b[0m\n\u001b[0;32m    393\u001b[0m         \"\"\"\n\u001b[1;32m--> 394\u001b[1;33m         \u001b[0ms\u001b[0m \u001b[1;33m=\u001b[0m \u001b[0mself\u001b[0m\u001b[1;33m.\u001b[0m\u001b[0mfp\u001b[0m\u001b[1;33m.\u001b[0m\u001b[0mread\u001b[0m\u001b[1;33m(\u001b[0m\u001b[0mread_bytes\u001b[0m\u001b[1;33m)\u001b[0m\u001b[1;33m\u001b[0m\u001b[1;33m\u001b[0m\u001b[0m\n\u001b[0m\u001b[0;32m    395\u001b[0m \u001b[1;33m\u001b[0m\u001b[0m\n\u001b[0;32m    396\u001b[0m         \u001b[1;32mif\u001b[0m \u001b[1;32mnot\u001b[0m \u001b[0ms\u001b[0m \u001b[1;32mand\u001b[0m \u001b[0mImageFile\u001b[0m\u001b[1;33m.\u001b[0m\u001b[0mLOAD_TRUNCATED_IMAGES\u001b[0m\u001b[1;33m:\u001b[0m\u001b[1;33m\u001b[0m\u001b[1;33m\u001b[0m\u001b[0m\n",
      "\u001b[1;31mKeyboardInterrupt\u001b[0m: "
     ]
    }
   ],
   "source": [
    "thumbnails = []\n",
    "for row in tqdm(df.itertuples(index=False), total=len(df)):\n",
    "    mining_date_dir = mining_dir / str(row.date)\n",
    "    thumbnail_glob = '{:04d}-*-thumbnail.jpg'.format(row.ranking)\n",
    "    try:\n",
    "        thumbnail_path = next(mining_date_dir.glob(thumbnail_glob))\n",
    "    except StopIteration:\n",
    "        thumbnail = np.asarray(Image.new('RGB', (210, 122), (255, 255, 255)))\n",
    "    else:\n",
    "        thumbnail = np.asarray(Image.open(thumbnail_path).convert('RGB'))\n",
    "    thumbnails.append(thumbnail / 255.0)\n",
    "thumbnails = np.asarray(thumbnails)"
   ]
  },
  {
   "cell_type": "markdown",
   "metadata": {},
   "source": [
    "### word2vec, fasttext"
   ]
  },
  {
   "cell_type": "code",
   "execution_count": 35,
   "metadata": {},
   "outputs": [],
   "source": [
    "wv_vector_path = embedding_dir / 'news-{}-wv{}.vec'.format(DATA_TYPE, DIM)\n",
    "ft_vector_path = embedding_dir / 'news-{}-ft{}.vec'.format(DATA_TYPE, DIM)\n",
    "\n",
    "wv_mod = gensim.models.Word2Vec(sentences, sg=1, size=DIM)\n",
    "wv_mod.wv.save_word2vec_format(str(wv_vector_path))\n",
    "ft_mod = gensim.models.FastText(sentences, sg=1, size=DIM)\n",
    "ft_mod.wv.save_word2vec_format(str(ft_vector_path))"
   ]
  },
  {
   "cell_type": "code",
   "execution_count": 38,
   "metadata": {},
   "outputs": [
    {
     "data": {
      "text/plain": [
       "array([ 1.42286196e-01,  8.98443982e-02, -1.00184076e-01,  2.86917891e-02,\n",
       "       -6.66935891e-02,  3.47867720e-02,  1.67990983e-01,  5.65400021e-03,\n",
       "       -5.91718704e-02, -1.63110822e-01,  2.34631926e-01,  5.78241982e-02,\n",
       "        2.01397866e-01, -2.01946363e-01, -1.58710137e-01, -1.34217009e-01,\n",
       "       -5.25152199e-02,  2.44512837e-02, -9.07028560e-03, -1.00660995e-01,\n",
       "        9.65150669e-02,  1.63656935e-01,  7.28694350e-02,  7.02350885e-02,\n",
       "       -1.11775156e-02,  1.65030956e-02,  4.42833640e-02, -1.72882646e-01,\n",
       "       -7.01838285e-02, -5.17754331e-02, -1.40448570e-01,  4.53177914e-02,\n",
       "        6.13001026e-02, -5.33518456e-02, -5.63084111e-02, -1.82965882e-02,\n",
       "       -8.66115373e-03, -1.34660779e-02, -5.25258034e-02,  1.21647991e-01,\n",
       "        9.05212685e-02,  2.16957375e-01,  4.71497700e-02, -4.88047022e-03,\n",
       "        2.15473488e-01, -1.76374745e-02,  2.17271358e-01, -3.90675813e-02,\n",
       "       -2.51901329e-01,  1.60450697e-01,  2.19821930e-03, -4.07219566e-02,\n",
       "       -1.04005253e-02,  5.20596467e-02,  1.27034977e-01,  1.56183317e-01,\n",
       "       -9.73107591e-02, -9.16081145e-02,  2.25139409e-01, -7.07298815e-02,\n",
       "       -2.78684497e-01,  1.09144054e-01, -6.20589331e-02, -8.84427950e-02,\n",
       "       -3.17434955e-04,  2.53441744e-02,  2.20949784e-01,  2.05316152e-02,\n",
       "        8.48765522e-02, -1.69127896e-01,  3.20173390e-02,  1.08083487e-02,\n",
       "        8.23128521e-02, -1.83131889e-01, -8.40332583e-02, -6.96838647e-02,\n",
       "       -8.95050243e-02, -9.78275985e-02, -4.41943519e-02, -2.74026562e-02,\n",
       "        3.74903753e-02,  1.11981958e-01, -2.00449694e-02, -3.71202566e-02,\n",
       "       -3.83712873e-02,  9.81767476e-02,  1.17116161e-01,  1.14106894e-01,\n",
       "        1.70413747e-01,  2.36791987e-02,  8.19491893e-02,  1.50129482e-01,\n",
       "       -1.73480198e-01, -1.24763675e-01, -5.64561114e-02,  2.80592609e-02,\n",
       "       -5.02433553e-02, -8.55810121e-02, -2.44351029e-02,  7.03775212e-02,\n",
       "        2.53275391e-02, -4.45127999e-03, -3.38852882e-01,  4.59004641e-02,\n",
       "        1.52734026e-01, -5.86966723e-02,  6.46785349e-02,  9.54774842e-02,\n",
       "        2.38339230e-01, -4.09987615e-03,  7.38438591e-02,  7.55040124e-02,\n",
       "       -7.67430738e-02,  8.54528174e-02,  2.34675612e-02, -1.71331629e-01,\n",
       "       -1.19487450e-01, -1.03615016e-01,  1.30474508e-01, -3.53574604e-02,\n",
       "       -9.64667127e-02, -2.43663993e-02,  4.14527170e-02,  7.39988238e-02,\n",
       "       -1.46731928e-01, -1.81398429e-02,  9.23338346e-03, -3.72677185e-02,\n",
       "       -1.14015993e-02,  1.25497118e-01,  3.36403213e-02, -1.09755650e-01,\n",
       "       -1.52109236e-01,  6.06255680e-02, -9.02656764e-02,  1.04791913e-02,\n",
       "       -1.08666338e-01,  8.94819759e-03, -2.27594241e-01,  2.27647834e-02,\n",
       "        1.19821444e-01, -1.37191927e-02,  6.30938783e-02, -4.00604717e-02,\n",
       "        7.13196248e-02, -9.36624259e-02,  4.49506450e-04,  4.49100547e-02,\n",
       "       -1.22174464e-01,  3.38924378e-02,  5.93895325e-03, -9.36709791e-02,\n",
       "       -1.27358153e-01,  5.31250313e-02,  3.43120731e-02,  5.35630397e-02,\n",
       "       -2.61738524e-02,  1.31753390e-03, -9.69562605e-02, -1.61691099e-01,\n",
       "       -2.07578897e-01,  6.97611049e-02,  1.18557461e-01,  1.09544054e-01,\n",
       "       -2.36922149e-02,  7.77996853e-02, -1.80194572e-01, -1.90004259e-01,\n",
       "       -5.47841415e-02,  5.19236326e-02,  1.37029350e-01, -2.35666446e-02,\n",
       "       -2.78315246e-02,  7.22756684e-02, -4.44533974e-02, -1.42105848e-01,\n",
       "        3.97318825e-02, -6.82421699e-02,  1.62733316e-01,  5.81086017e-02,\n",
       "       -1.90403387e-02, -7.20127448e-02,  4.75271977e-02,  5.96177094e-02,\n",
       "        1.53476819e-01,  1.91764683e-01,  8.18605199e-02,  3.28643955e-02,\n",
       "        9.61557850e-02,  6.61694929e-02,  3.11494805e-02, -2.30794966e-01,\n",
       "       -1.18399553e-01, -5.13082296e-02, -1.03580533e-02, -1.34937679e-02,\n",
       "        1.54025510e-01, -2.07792707e-02,  1.43035799e-02,  2.06011832e-02,\n",
       "       -9.65894461e-02,  8.80632550e-02,  1.13129601e-01,  6.45416677e-02,\n",
       "       -4.11589704e-02, -9.82484668e-02,  2.85631996e-02, -4.45167907e-02,\n",
       "       -6.95238411e-02,  2.09333077e-01, -1.11528516e-01, -2.83391029e-01,\n",
       "        5.53995650e-03,  4.09419946e-02,  3.64429690e-02,  1.73135549e-01,\n",
       "        1.07971616e-01, -9.48582441e-02,  7.37087578e-02, -3.25022973e-02,\n",
       "       -1.14280231e-01, -5.67966811e-02,  8.20863619e-03,  5.13000274e-03,\n",
       "       -4.25205417e-02, -1.57773383e-02, -2.91840397e-02,  8.68168175e-02,\n",
       "        5.13651781e-02,  2.98502386e-01, -7.42603093e-02, -1.98758896e-02,\n",
       "       -4.06738147e-02,  4.34197150e-02, -6.77384436e-02,  1.27971366e-01,\n",
       "       -9.59038809e-02, -1.96671430e-02,  1.97505690e-02, -8.86298120e-02,\n",
       "       -2.83922087e-02, -4.88253459e-02, -7.73372650e-02,  1.14971377e-01,\n",
       "        2.11326759e-02,  1.39682308e-01,  8.21227729e-02,  2.33608454e-01,\n",
       "       -8.91665369e-02, -1.40322223e-01, -1.31013364e-01,  1.25615135e-01,\n",
       "       -8.55145752e-02,  6.44805208e-02, -1.28109172e-01,  2.74512805e-02,\n",
       "        1.09144568e-01, -1.99104950e-01, -1.80867612e-01, -1.75595969e-01,\n",
       "       -7.47882426e-02, -7.84797370e-02, -4.07856815e-02, -5.15237870e-03,\n",
       "       -2.13723108e-01, -1.50311694e-01, -1.04572671e-02,  1.85738131e-01,\n",
       "       -4.50696312e-02, -9.12314504e-02, -7.72475898e-02,  6.12584986e-02,\n",
       "       -2.73694079e-02,  4.79951389e-02, -1.84947789e-01, -1.75961643e-01,\n",
       "        5.99621050e-03, -5.66069037e-03,  4.37590964e-02, -2.19640937e-02,\n",
       "       -4.65191603e-02,  1.11053428e-02,  4.23693471e-03, -1.31062329e-01,\n",
       "        7.57715181e-02, -5.71029820e-02,  1.02770098e-01,  8.87412652e-02,\n",
       "       -9.45204347e-02, -8.51886719e-02,  1.48971871e-01, -4.78615500e-02,\n",
       "        1.06662579e-01,  2.24231984e-02,  1.93811700e-01,  1.68886080e-01,\n",
       "        2.12368984e-02, -1.38796130e-02, -4.01277281e-02,  7.08779991e-02],\n",
       "      dtype=float32)"
      ]
     },
     "execution_count": 38,
     "metadata": {},
     "output_type": "execute_result"
    }
   ],
   "source": [
    "ft_mod.wv.word_vec('ㄹㅗㄹㄹㅗㄹㄹㅗㄹ')"
   ]
  },
  {
   "cell_type": "code",
   "execution_count": null,
   "metadata": {},
   "outputs": [],
   "source": []
  }
 ],
 "metadata": {
  "kernelspec": {
   "display_name": "Python 3",
   "language": "python",
   "name": "python3"
  },
  "language_info": {
   "codemirror_mode": {
    "name": "ipython",
    "version": 3
   },
   "file_extension": ".py",
   "mimetype": "text/x-python",
   "name": "python",
   "nbconvert_exporter": "python",
   "pygments_lexer": "ipython3",
   "version": "3.7.7"
  }
 },
 "nbformat": 4,
 "nbformat_minor": 4
}
